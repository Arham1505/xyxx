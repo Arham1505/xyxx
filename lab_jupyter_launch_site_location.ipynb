{
  "metadata": {
    "kernelspec": {
      "name": "python",
      "display_name": "Python (Pyodide)",
      "language": "python"
    },
    "language_info": {
      "codemirror_mode": {
        "name": "python",
        "version": 3
      },
      "file_extension": ".py",
      "mimetype": "text/x-python",
      "name": "python",
      "nbconvert_exporter": "python",
      "pygments_lexer": "ipython3",
      "version": "3.8"
    },
    "prev_pub_hash": "0f9db842b41c859223722809f8be602f5df9334348bd206b11e3af58c30eb345"
  },
  "nbformat_minor": 4,
  "nbformat": 4,
  "cells": [
    {
      "cell_type": "markdown",
      "source": "<p style=\"text-align:center\">\n    <a href=\"https://skills.network/?utm_medium=Exinfluencer&utm_source=Exinfluencer&utm_content=000026UJ&utm_term=10006555&utm_id=NA-SkillsNetwork-Channel-SkillsNetworkCoursesIBMDS0321ENSkillsNetwork26802033-2022-01-01\" target=\"_blank\">\n    <img src=\"https://cf-courses-data.s3.us.cloud-object-storage.appdomain.cloud/assets/logos/SN_web_lightmode.png\" width=\"200\" alt=\"Skills Network Logo\">\n    </a>\n</p>\n",
      "metadata": {}
    },
    {
      "cell_type": "markdown",
      "source": "# **Hands-on Lab: Interactive Visual Analytics with Folium**\n",
      "metadata": {}
    },
    {
      "cell_type": "markdown",
      "source": "Estimated time needed: **40** minutes\n",
      "metadata": {}
    },
    {
      "cell_type": "markdown",
      "source": "The launch success rate may depend on many factors such as payload mass, orbit type, and so on. It may also depend on the location and proximities of a launch site, i.e., the initial position of rocket trajectories. Finding an optimal location for building a launch site certainly involves many factors and hopefully we could discover some of the factors by analyzing the existing launch site locations.\n",
      "metadata": {}
    },
    {
      "cell_type": "markdown",
      "source": "In the previous exploratory data analysis labs, you have visualized the SpaceX launch dataset using `matplotlib` and `seaborn` and discovered some preliminary correlations between the launch site and success rates. In this lab, you will be performing more interactive visual analytics using `Folium`.\n",
      "metadata": {}
    },
    {
      "cell_type": "markdown",
      "source": "## Objectives\n",
      "metadata": {}
    },
    {
      "cell_type": "markdown",
      "source": "This lab contains the following tasks:\n\n*   **TASK 1:** Mark all launch sites on a map\n*   **TASK 2:** Mark the success/failed launches for each site on the map\n*   **TASK 3:** Calculate the distances between a launch site to its proximities\n\nAfter completed the above tasks, you should be able to find some geographical patterns about launch sites.\n",
      "metadata": {}
    },
    {
      "cell_type": "markdown",
      "source": "Let's first import required Python packages for this lab:\n",
      "metadata": {}
    },
    {
      "cell_type": "code",
      "source": "import piplite\nawait piplite.install(['folium'])\nawait piplite.install(['pandas'])",
      "metadata": {
        "trusted": true
      },
      "outputs": [],
      "execution_count": 1
    },
    {
      "cell_type": "code",
      "source": "import folium\nimport pandas as pd",
      "metadata": {
        "trusted": true
      },
      "outputs": [],
      "execution_count": 2
    },
    {
      "cell_type": "code",
      "source": "# Import folium MarkerCluster plugin\nfrom folium.plugins import MarkerCluster\n# Import folium MousePosition plugin\nfrom folium.plugins import MousePosition\n# Import folium DivIcon plugin\nfrom folium.features import DivIcon",
      "metadata": {
        "trusted": true
      },
      "outputs": [],
      "execution_count": 3
    },
    {
      "cell_type": "markdown",
      "source": "If you need to refresh your memory about folium, you may download and refer to this previous folium lab:\n",
      "metadata": {}
    },
    {
      "cell_type": "markdown",
      "source": "[Generating Maps with Python](https://cf-courses-data.s3.us.cloud-object-storage.appdomain.cloud/IBMDeveloperSkillsNetwork-DV0101EN-SkillsNetwork/labs/v4/DV0101EN-Exercise-Generating-Maps-in-Python.ipynb)\n",
      "metadata": {}
    },
    {
      "cell_type": "code",
      "source": "## Task 1: Mark all launch sites on a map\n# Initialize the map\nsite_map = folium.Map(location=nasa_coordinate, zoom_start=5)\n\n# For each launch site, add a Circle and Marker\nfor index, site in launch_sites_df.iterrows():\n    site_coordinate = [site['Lat'], site['Long']]\n    \n    # Create a Circle with a popup label\n    circle = folium.Circle(\n        site_coordinate,\n        radius=1000,\n        color='#000000',\n        fill=True\n    ).add_child(folium.Popup(site['Launch Site']))\n    \n    # Create a Marker with a label\n    marker = folium.Marker(\n        site_coordinate,\n        icon=DivIcon(\n            icon_size=(20,20),\n            icon_anchor=(0,0),\n            html=f'<div style=\"font-size: 12; color:#d35400;\"><b>{site[\"Launch Site\"]}</b></div>'\n        )\n    )\n    \n    site_map.add_child(circle)\n    site_map.add_child(marker)\n\n# Display the map\nsite_map",
      "metadata": {
        "trusted": true
      },
      "outputs": [
        {
          "execution_count": 13,
          "output_type": "execute_result",
          "data": {
            "text/plain": "<folium.folium.Map at 0x5db7a18>",
            "text/html": "<div style=\"width:100%;\"><div style=\"position:relative;width:100%;height:0;padding-bottom:60%;\"><span style=\"color:#565656\">Make this Notebook Trusted to load map: File -> Trust Notebook</span><iframe srcdoc=\"&lt;!DOCTYPE html&gt;\n&lt;html&gt;\n&lt;head&gt;\n    \n    &lt;meta http-equiv=&quot;content-type&quot; content=&quot;text/html; charset=UTF-8&quot; /&gt;\n    \n        &lt;script&gt;\n            L_NO_TOUCH = false;\n            L_DISABLE_3D = false;\n        &lt;/script&gt;\n    \n    &lt;style&gt;html, body {width: 100%;height: 100%;margin: 0;padding: 0;}&lt;/style&gt;\n    &lt;style&gt;#map {position:absolute;top:0;bottom:0;right:0;left:0;}&lt;/style&gt;\n    &lt;script src=&quot;https://cdn.jsdelivr.net/npm/leaflet@1.9.3/dist/leaflet.js&quot;&gt;&lt;/script&gt;\n    &lt;script src=&quot;https://code.jquery.com/jquery-3.7.1.min.js&quot;&gt;&lt;/script&gt;\n    &lt;script src=&quot;https://cdn.jsdelivr.net/npm/bootstrap@5.2.2/dist/js/bootstrap.bundle.min.js&quot;&gt;&lt;/script&gt;\n    &lt;script src=&quot;https://cdnjs.cloudflare.com/ajax/libs/Leaflet.awesome-markers/2.0.2/leaflet.awesome-markers.js&quot;&gt;&lt;/script&gt;\n    &lt;link rel=&quot;stylesheet&quot; href=&quot;https://cdn.jsdelivr.net/npm/leaflet@1.9.3/dist/leaflet.css&quot;/&gt;\n    &lt;link rel=&quot;stylesheet&quot; href=&quot;https://cdn.jsdelivr.net/npm/bootstrap@5.2.2/dist/css/bootstrap.min.css&quot;/&gt;\n    &lt;link rel=&quot;stylesheet&quot; href=&quot;https://netdna.bootstrapcdn.com/bootstrap/3.0.0/css/bootstrap-glyphicons.css&quot;/&gt;\n    &lt;link rel=&quot;stylesheet&quot; href=&quot;https://cdn.jsdelivr.net/npm/@fortawesome/fontawesome-free@6.2.0/css/all.min.css&quot;/&gt;\n    &lt;link rel=&quot;stylesheet&quot; href=&quot;https://cdnjs.cloudflare.com/ajax/libs/Leaflet.awesome-markers/2.0.2/leaflet.awesome-markers.css&quot;/&gt;\n    &lt;link rel=&quot;stylesheet&quot; href=&quot;https://cdn.jsdelivr.net/gh/python-visualization/folium/folium/templates/leaflet.awesome.rotate.min.css&quot;/&gt;\n    \n            &lt;meta name=&quot;viewport&quot; content=&quot;width=device-width,\n                initial-scale=1.0, maximum-scale=1.0, user-scalable=no&quot; /&gt;\n            &lt;style&gt;\n                #map_2d07d2618c5a1583c63a879593b3439e {\n                    position: relative;\n                    width: 100.0%;\n                    height: 100.0%;\n                    left: 0.0%;\n                    top: 0.0%;\n                }\n                .leaflet-container { font-size: 1rem; }\n            &lt;/style&gt;\n        \n&lt;/head&gt;\n&lt;body&gt;\n    \n    \n            &lt;div class=&quot;folium-map&quot; id=&quot;map_2d07d2618c5a1583c63a879593b3439e&quot; &gt;&lt;/div&gt;\n        \n&lt;/body&gt;\n&lt;script&gt;\n    \n    \n            var map_2d07d2618c5a1583c63a879593b3439e = L.map(\n                &quot;map_2d07d2618c5a1583c63a879593b3439e&quot;,\n                {\n                    center: [29.559684888503615, -95.0830971930759],\n                    crs: L.CRS.EPSG3857,\n                    ...{\n  &quot;zoom&quot;: 5,\n  &quot;zoomControl&quot;: true,\n  &quot;preferCanvas&quot;: false,\n}\n\n                }\n            );\n\n            \n\n        \n    \n            var tile_layer_aad8eb62e949c5e7fa732687be40277e = L.tileLayer(\n                &quot;https://tile.openstreetmap.org/{z}/{x}/{y}.png&quot;,\n                {\n  &quot;minZoom&quot;: 0,\n  &quot;maxZoom&quot;: 19,\n  &quot;maxNativeZoom&quot;: 19,\n  &quot;noWrap&quot;: false,\n  &quot;attribution&quot;: &quot;\\u0026copy; \\u003ca href=\\&quot;https://www.openstreetmap.org/copyright\\&quot;\\u003eOpenStreetMap\\u003c/a\\u003e contributors&quot;,\n  &quot;subdomains&quot;: &quot;abc&quot;,\n  &quot;detectRetina&quot;: false,\n  &quot;tms&quot;: false,\n  &quot;opacity&quot;: 1,\n}\n\n            );\n        \n    \n            tile_layer_aad8eb62e949c5e7fa732687be40277e.addTo(map_2d07d2618c5a1583c63a879593b3439e);\n        \n    \n            var circle_1f8f966cf990d36c28b92d89f31a3e32 = L.circle(\n                [28.56230197, -80.57735648],\n                {&quot;bubblingMouseEvents&quot;: true, &quot;color&quot;: &quot;#000000&quot;, &quot;dashArray&quot;: null, &quot;dashOffset&quot;: null, &quot;fill&quot;: true, &quot;fillColor&quot;: &quot;#000000&quot;, &quot;fillOpacity&quot;: 0.2, &quot;fillRule&quot;: &quot;evenodd&quot;, &quot;lineCap&quot;: &quot;round&quot;, &quot;lineJoin&quot;: &quot;round&quot;, &quot;opacity&quot;: 1.0, &quot;radius&quot;: 1000, &quot;stroke&quot;: true, &quot;weight&quot;: 3}\n            ).addTo(map_2d07d2618c5a1583c63a879593b3439e);\n        \n    \n        var popup_d3159b650bae0d9e1e8b75e7a4f63be3 = L.popup({\n  &quot;maxWidth&quot;: &quot;100%&quot;,\n});\n\n        \n            \n                var html_8e046fba03449e28b66755f38fc8ac8d = $(`&lt;div id=&quot;html_8e046fba03449e28b66755f38fc8ac8d&quot; style=&quot;width: 100.0%; height: 100.0%;&quot;&gt;CCAFS LC-40&lt;/div&gt;`)[0];\n                popup_d3159b650bae0d9e1e8b75e7a4f63be3.setContent(html_8e046fba03449e28b66755f38fc8ac8d);\n            \n        \n\n        circle_1f8f966cf990d36c28b92d89f31a3e32.bindPopup(popup_d3159b650bae0d9e1e8b75e7a4f63be3)\n        ;\n\n        \n    \n    \n            var marker_fb8cf36bbc7ff42e8a3a91494bf9cd91 = L.marker(\n                [28.56230197, -80.57735648],\n                {\n}\n            ).addTo(map_2d07d2618c5a1583c63a879593b3439e);\n        \n    \n            var div_icon_3e0bfd90dad3e72246acc1dc43dce2f9 = L.divIcon({\n  &quot;html&quot;: &quot;\\u003cdiv style=\\&quot;font-size: 12; color:#d35400;\\&quot;\\u003e\\u003cb\\u003eCCAFS LC-40\\u003c/b\\u003e\\u003c/div\\u003e&quot;,\n  &quot;iconSize&quot;: [20, 20],\n  &quot;iconAnchor&quot;: [0, 0],\n  &quot;className&quot;: &quot;empty&quot;,\n});\n            marker_fb8cf36bbc7ff42e8a3a91494bf9cd91.setIcon(div_icon_3e0bfd90dad3e72246acc1dc43dce2f9);\n        \n    \n                marker_fb8cf36bbc7ff42e8a3a91494bf9cd91.setIcon(div_icon_3e0bfd90dad3e72246acc1dc43dce2f9);\n            \n    \n            var circle_e7b0019cd4da4165e643c89a86583d7e = L.circle(\n                [28.56319718, -80.57682003],\n                {&quot;bubblingMouseEvents&quot;: true, &quot;color&quot;: &quot;#000000&quot;, &quot;dashArray&quot;: null, &quot;dashOffset&quot;: null, &quot;fill&quot;: true, &quot;fillColor&quot;: &quot;#000000&quot;, &quot;fillOpacity&quot;: 0.2, &quot;fillRule&quot;: &quot;evenodd&quot;, &quot;lineCap&quot;: &quot;round&quot;, &quot;lineJoin&quot;: &quot;round&quot;, &quot;opacity&quot;: 1.0, &quot;radius&quot;: 1000, &quot;stroke&quot;: true, &quot;weight&quot;: 3}\n            ).addTo(map_2d07d2618c5a1583c63a879593b3439e);\n        \n    \n        var popup_6c9362dda7a9605288c6d5aee81c1528 = L.popup({\n  &quot;maxWidth&quot;: &quot;100%&quot;,\n});\n\n        \n            \n                var html_25d19d37deb2530916cd6c210d0c7add = $(`&lt;div id=&quot;html_25d19d37deb2530916cd6c210d0c7add&quot; style=&quot;width: 100.0%; height: 100.0%;&quot;&gt;CCAFS SLC-40&lt;/div&gt;`)[0];\n                popup_6c9362dda7a9605288c6d5aee81c1528.setContent(html_25d19d37deb2530916cd6c210d0c7add);\n            \n        \n\n        circle_e7b0019cd4da4165e643c89a86583d7e.bindPopup(popup_6c9362dda7a9605288c6d5aee81c1528)\n        ;\n\n        \n    \n    \n            var marker_0634201c6dbe6874ff3b9d570935f37b = L.marker(\n                [28.56319718, -80.57682003],\n                {\n}\n            ).addTo(map_2d07d2618c5a1583c63a879593b3439e);\n        \n    \n            var div_icon_3836b283d8e3e61b8df050558e6817f0 = L.divIcon({\n  &quot;html&quot;: &quot;\\u003cdiv style=\\&quot;font-size: 12; color:#d35400;\\&quot;\\u003e\\u003cb\\u003eCCAFS SLC-40\\u003c/b\\u003e\\u003c/div\\u003e&quot;,\n  &quot;iconSize&quot;: [20, 20],\n  &quot;iconAnchor&quot;: [0, 0],\n  &quot;className&quot;: &quot;empty&quot;,\n});\n            marker_0634201c6dbe6874ff3b9d570935f37b.setIcon(div_icon_3836b283d8e3e61b8df050558e6817f0);\n        \n    \n                marker_0634201c6dbe6874ff3b9d570935f37b.setIcon(div_icon_3836b283d8e3e61b8df050558e6817f0);\n            \n    \n            var circle_aeda7c3b5a0abe22d132a8dd44845ae3 = L.circle(\n                [28.57325457, -80.64689529],\n                {&quot;bubblingMouseEvents&quot;: true, &quot;color&quot;: &quot;#000000&quot;, &quot;dashArray&quot;: null, &quot;dashOffset&quot;: null, &quot;fill&quot;: true, &quot;fillColor&quot;: &quot;#000000&quot;, &quot;fillOpacity&quot;: 0.2, &quot;fillRule&quot;: &quot;evenodd&quot;, &quot;lineCap&quot;: &quot;round&quot;, &quot;lineJoin&quot;: &quot;round&quot;, &quot;opacity&quot;: 1.0, &quot;radius&quot;: 1000, &quot;stroke&quot;: true, &quot;weight&quot;: 3}\n            ).addTo(map_2d07d2618c5a1583c63a879593b3439e);\n        \n    \n        var popup_6801a4a2477f4d740370c51fd168603b = L.popup({\n  &quot;maxWidth&quot;: &quot;100%&quot;,\n});\n\n        \n            \n                var html_4d31e923ede6e6d0bfe11093ae8ffba2 = $(`&lt;div id=&quot;html_4d31e923ede6e6d0bfe11093ae8ffba2&quot; style=&quot;width: 100.0%; height: 100.0%;&quot;&gt;KSC LC-39A&lt;/div&gt;`)[0];\n                popup_6801a4a2477f4d740370c51fd168603b.setContent(html_4d31e923ede6e6d0bfe11093ae8ffba2);\n            \n        \n\n        circle_aeda7c3b5a0abe22d132a8dd44845ae3.bindPopup(popup_6801a4a2477f4d740370c51fd168603b)\n        ;\n\n        \n    \n    \n            var marker_7f6d74c0e7893254cc51e9c88d32f8e1 = L.marker(\n                [28.57325457, -80.64689529],\n                {\n}\n            ).addTo(map_2d07d2618c5a1583c63a879593b3439e);\n        \n    \n            var div_icon_549c45339c1652b21e788ac8edf7ac79 = L.divIcon({\n  &quot;html&quot;: &quot;\\u003cdiv style=\\&quot;font-size: 12; color:#d35400;\\&quot;\\u003e\\u003cb\\u003eKSC LC-39A\\u003c/b\\u003e\\u003c/div\\u003e&quot;,\n  &quot;iconSize&quot;: [20, 20],\n  &quot;iconAnchor&quot;: [0, 0],\n  &quot;className&quot;: &quot;empty&quot;,\n});\n            marker_7f6d74c0e7893254cc51e9c88d32f8e1.setIcon(div_icon_549c45339c1652b21e788ac8edf7ac79);\n        \n    \n                marker_7f6d74c0e7893254cc51e9c88d32f8e1.setIcon(div_icon_549c45339c1652b21e788ac8edf7ac79);\n            \n    \n            var circle_551ce535863ef746854cd374ca64bc77 = L.circle(\n                [34.63283416, -120.6107455],\n                {&quot;bubblingMouseEvents&quot;: true, &quot;color&quot;: &quot;#000000&quot;, &quot;dashArray&quot;: null, &quot;dashOffset&quot;: null, &quot;fill&quot;: true, &quot;fillColor&quot;: &quot;#000000&quot;, &quot;fillOpacity&quot;: 0.2, &quot;fillRule&quot;: &quot;evenodd&quot;, &quot;lineCap&quot;: &quot;round&quot;, &quot;lineJoin&quot;: &quot;round&quot;, &quot;opacity&quot;: 1.0, &quot;radius&quot;: 1000, &quot;stroke&quot;: true, &quot;weight&quot;: 3}\n            ).addTo(map_2d07d2618c5a1583c63a879593b3439e);\n        \n    \n        var popup_70fc8e276b78fa742d8c975f1732d403 = L.popup({\n  &quot;maxWidth&quot;: &quot;100%&quot;,\n});\n\n        \n            \n                var html_57a4538140f9f3ec95acd11c0a67c34c = $(`&lt;div id=&quot;html_57a4538140f9f3ec95acd11c0a67c34c&quot; style=&quot;width: 100.0%; height: 100.0%;&quot;&gt;VAFB SLC-4E&lt;/div&gt;`)[0];\n                popup_70fc8e276b78fa742d8c975f1732d403.setContent(html_57a4538140f9f3ec95acd11c0a67c34c);\n            \n        \n\n        circle_551ce535863ef746854cd374ca64bc77.bindPopup(popup_70fc8e276b78fa742d8c975f1732d403)\n        ;\n\n        \n    \n    \n            var marker_43fc9ac41c9d513d32d88cecb64d90b4 = L.marker(\n                [34.63283416, -120.6107455],\n                {\n}\n            ).addTo(map_2d07d2618c5a1583c63a879593b3439e);\n        \n    \n            var div_icon_682fd70209fcede6229cc68a36aada7a = L.divIcon({\n  &quot;html&quot;: &quot;\\u003cdiv style=\\&quot;font-size: 12; color:#d35400;\\&quot;\\u003e\\u003cb\\u003eVAFB SLC-4E\\u003c/b\\u003e\\u003c/div\\u003e&quot;,\n  &quot;iconSize&quot;: [20, 20],\n  &quot;iconAnchor&quot;: [0, 0],\n  &quot;className&quot;: &quot;empty&quot;,\n});\n            marker_43fc9ac41c9d513d32d88cecb64d90b4.setIcon(div_icon_682fd70209fcede6229cc68a36aada7a);\n        \n    \n                marker_43fc9ac41c9d513d32d88cecb64d90b4.setIcon(div_icon_682fd70209fcede6229cc68a36aada7a);\n            \n&lt;/script&gt;\n&lt;/html&gt;\" style=\"position:absolute;width:100%;height:100%;left:0;top:0;border:none !important;\" allowfullscreen webkitallowfullscreen mozallowfullscreen></iframe></div></div>"
          },
          "metadata": {}
        }
      ],
      "execution_count": 13
    },
    {
      "cell_type": "markdown",
      "source": "First, let's try to add each site's location on a map using site's latitude and longitude coordinates\n",
      "metadata": {}
    },
    {
      "cell_type": "markdown",
      "source": "The following dataset with the name `spacex_launch_geo.csv` is an augmented dataset with latitude and longitude added for each site.\n",
      "metadata": {}
    },
    {
      "cell_type": "code",
      "source": "# Download and read the `spacex_launch_geo.csv`\nfrom js import fetch\nimport io\n\nURL = 'https://cf-courses-data.s3.us.cloud-object-storage.appdomain.cloud/IBM-DS0321EN-SkillsNetwork/datasets/spacex_launch_geo.csv'\nresp = await fetch(URL)\nspacex_csv_file = io.BytesIO((await resp.arrayBuffer()).to_py())\nspacex_df=pd.read_csv(spacex_csv_file)",
      "metadata": {
        "trusted": true
      },
      "outputs": [],
      "execution_count": 5
    },
    {
      "cell_type": "markdown",
      "source": "Now, you can take a look at what are the coordinates for each site.\n",
      "metadata": {}
    },
    {
      "cell_type": "code",
      "source": "# Select relevant sub-columns: `Launch Site`, `Lat(Latitude)`, `Long(Longitude)`, `class`\nspacex_df = spacex_df[['Launch Site', 'Lat', 'Long', 'class']]\nlaunch_sites_df = spacex_df.groupby(['Launch Site'], as_index=False).first()\nlaunch_sites_df = launch_sites_df[['Launch Site', 'Lat', 'Long']]\nlaunch_sites_df",
      "metadata": {
        "trusted": true
      },
      "outputs": [
        {
          "execution_count": 6,
          "output_type": "execute_result",
          "data": {
            "text/plain": "    Launch Site        Lat        Long\n0   CCAFS LC-40  28.562302  -80.577356\n1  CCAFS SLC-40  28.563197  -80.576820\n2    KSC LC-39A  28.573255  -80.646895\n3   VAFB SLC-4E  34.632834 -120.610745",
            "text/html": "<div>\n<style scoped>\n    .dataframe tbody tr th:only-of-type {\n        vertical-align: middle;\n    }\n\n    .dataframe tbody tr th {\n        vertical-align: top;\n    }\n\n    .dataframe thead th {\n        text-align: right;\n    }\n</style>\n<table border=\"1\" class=\"dataframe\">\n  <thead>\n    <tr style=\"text-align: right;\">\n      <th></th>\n      <th>Launch Site</th>\n      <th>Lat</th>\n      <th>Long</th>\n    </tr>\n  </thead>\n  <tbody>\n    <tr>\n      <th>0</th>\n      <td>CCAFS LC-40</td>\n      <td>28.562302</td>\n      <td>-80.577356</td>\n    </tr>\n    <tr>\n      <th>1</th>\n      <td>CCAFS SLC-40</td>\n      <td>28.563197</td>\n      <td>-80.576820</td>\n    </tr>\n    <tr>\n      <th>2</th>\n      <td>KSC LC-39A</td>\n      <td>28.573255</td>\n      <td>-80.646895</td>\n    </tr>\n    <tr>\n      <th>3</th>\n      <td>VAFB SLC-4E</td>\n      <td>34.632834</td>\n      <td>-120.610745</td>\n    </tr>\n  </tbody>\n</table>\n</div>"
          },
          "metadata": {}
        }
      ],
      "execution_count": 6
    },
    {
      "cell_type": "markdown",
      "source": "Above coordinates are just plain numbers that can not give you any intuitive insights about where are those launch sites. If you are very good at geography, you can interpret those numbers directly in your mind. If not, that's fine too. Let's visualize those locations by pinning them on a map.\n",
      "metadata": {}
    },
    {
      "cell_type": "markdown",
      "source": "We first need to create a folium `Map` object, with an initial center location to be NASA Johnson Space Center at Houston, Texas.\n",
      "metadata": {}
    },
    {
      "cell_type": "code",
      "source": "# Start location is NASA Johnson Space Center\nnasa_coordinate = [29.559684888503615, -95.0830971930759]\nsite_map = folium.Map(location=nasa_coordinate, zoom_start=10)",
      "metadata": {
        "trusted": true
      },
      "outputs": [],
      "execution_count": 10
    },
    {
      "cell_type": "markdown",
      "source": "We could use `folium.Circle` to add a highlighted circle area with a text label on a specific coordinate. For example,\n",
      "metadata": {}
    },
    {
      "cell_type": "code",
      "source": "# Create a blue circle at NASA Johnson Space Center's coordinate with a popup label showing its name\ncircle = folium.Circle(nasa_coordinate, radius=1000, color='#d35400', fill=True).add_child(folium.Popup('NASA Johnson Space Center'))\n# Create a blue circle at NASA Johnson Space Center's coordinate with a icon showing its name\nmarker = folium.map.Marker(\n    nasa_coordinate,\n    # Create an icon as a text label\n    icon=DivIcon(\n        icon_size=(20,20),\n        icon_anchor=(0,0),\n        html='<div style=\"font-size: 12; color:#d35400;\"><b>%s</b></div>' % 'NASA JSC',\n        )\n    )\nsite_map.add_child(circle)\nsite_map.add_child(marker)",
      "metadata": {
        "trusted": true
      },
      "outputs": [
        {
          "execution_count": 12,
          "output_type": "execute_result",
          "data": {
            "text/plain": "<folium.folium.Map at 0x5fddda8>",
            "text/html": "<div style=\"width:100%;\"><div style=\"position:relative;width:100%;height:0;padding-bottom:60%;\"><span style=\"color:#565656\">Make this Notebook Trusted to load map: File -> Trust Notebook</span><iframe srcdoc=\"&lt;!DOCTYPE html&gt;\n&lt;html&gt;\n&lt;head&gt;\n    \n    &lt;meta http-equiv=&quot;content-type&quot; content=&quot;text/html; charset=UTF-8&quot; /&gt;\n    \n        &lt;script&gt;\n            L_NO_TOUCH = false;\n            L_DISABLE_3D = false;\n        &lt;/script&gt;\n    \n    &lt;style&gt;html, body {width: 100%;height: 100%;margin: 0;padding: 0;}&lt;/style&gt;\n    &lt;style&gt;#map {position:absolute;top:0;bottom:0;right:0;left:0;}&lt;/style&gt;\n    &lt;script src=&quot;https://cdn.jsdelivr.net/npm/leaflet@1.9.3/dist/leaflet.js&quot;&gt;&lt;/script&gt;\n    &lt;script src=&quot;https://code.jquery.com/jquery-3.7.1.min.js&quot;&gt;&lt;/script&gt;\n    &lt;script src=&quot;https://cdn.jsdelivr.net/npm/bootstrap@5.2.2/dist/js/bootstrap.bundle.min.js&quot;&gt;&lt;/script&gt;\n    &lt;script src=&quot;https://cdnjs.cloudflare.com/ajax/libs/Leaflet.awesome-markers/2.0.2/leaflet.awesome-markers.js&quot;&gt;&lt;/script&gt;\n    &lt;link rel=&quot;stylesheet&quot; href=&quot;https://cdn.jsdelivr.net/npm/leaflet@1.9.3/dist/leaflet.css&quot;/&gt;\n    &lt;link rel=&quot;stylesheet&quot; href=&quot;https://cdn.jsdelivr.net/npm/bootstrap@5.2.2/dist/css/bootstrap.min.css&quot;/&gt;\n    &lt;link rel=&quot;stylesheet&quot; href=&quot;https://netdna.bootstrapcdn.com/bootstrap/3.0.0/css/bootstrap-glyphicons.css&quot;/&gt;\n    &lt;link rel=&quot;stylesheet&quot; href=&quot;https://cdn.jsdelivr.net/npm/@fortawesome/fontawesome-free@6.2.0/css/all.min.css&quot;/&gt;\n    &lt;link rel=&quot;stylesheet&quot; href=&quot;https://cdnjs.cloudflare.com/ajax/libs/Leaflet.awesome-markers/2.0.2/leaflet.awesome-markers.css&quot;/&gt;\n    &lt;link rel=&quot;stylesheet&quot; href=&quot;https://cdn.jsdelivr.net/gh/python-visualization/folium/folium/templates/leaflet.awesome.rotate.min.css&quot;/&gt;\n    \n            &lt;meta name=&quot;viewport&quot; content=&quot;width=device-width,\n                initial-scale=1.0, maximum-scale=1.0, user-scalable=no&quot; /&gt;\n            &lt;style&gt;\n                #map_ea9929c10109b24322daaf6eec3bf4f3 {\n                    position: relative;\n                    width: 100.0%;\n                    height: 100.0%;\n                    left: 0.0%;\n                    top: 0.0%;\n                }\n                .leaflet-container { font-size: 1rem; }\n            &lt;/style&gt;\n        \n&lt;/head&gt;\n&lt;body&gt;\n    \n    \n            &lt;div class=&quot;folium-map&quot; id=&quot;map_ea9929c10109b24322daaf6eec3bf4f3&quot; &gt;&lt;/div&gt;\n        \n&lt;/body&gt;\n&lt;script&gt;\n    \n    \n            var map_ea9929c10109b24322daaf6eec3bf4f3 = L.map(\n                &quot;map_ea9929c10109b24322daaf6eec3bf4f3&quot;,\n                {\n                    center: [29.559684888503615, -95.0830971930759],\n                    crs: L.CRS.EPSG3857,\n                    ...{\n  &quot;zoom&quot;: 5,\n  &quot;zoomControl&quot;: true,\n  &quot;preferCanvas&quot;: false,\n}\n\n                }\n            );\n\n            \n\n        \n    \n            var tile_layer_0b1b58812eb628df0861a9dac4075dab = L.tileLayer(\n                &quot;https://tile.openstreetmap.org/{z}/{x}/{y}.png&quot;,\n                {\n  &quot;minZoom&quot;: 0,\n  &quot;maxZoom&quot;: 19,\n  &quot;maxNativeZoom&quot;: 19,\n  &quot;noWrap&quot;: false,\n  &quot;attribution&quot;: &quot;\\u0026copy; \\u003ca href=\\&quot;https://www.openstreetmap.org/copyright\\&quot;\\u003eOpenStreetMap\\u003c/a\\u003e contributors&quot;,\n  &quot;subdomains&quot;: &quot;abc&quot;,\n  &quot;detectRetina&quot;: false,\n  &quot;tms&quot;: false,\n  &quot;opacity&quot;: 1,\n}\n\n            );\n        \n    \n            tile_layer_0b1b58812eb628df0861a9dac4075dab.addTo(map_ea9929c10109b24322daaf6eec3bf4f3);\n        \n    \n            var circle_36a1bd2ba1aa3674522dad6b80f066a6 = L.circle(\n                [28.56230197, -80.57735648],\n                {&quot;bubblingMouseEvents&quot;: true, &quot;color&quot;: &quot;#000000&quot;, &quot;dashArray&quot;: null, &quot;dashOffset&quot;: null, &quot;fill&quot;: true, &quot;fillColor&quot;: &quot;#000000&quot;, &quot;fillOpacity&quot;: 0.2, &quot;fillRule&quot;: &quot;evenodd&quot;, &quot;lineCap&quot;: &quot;round&quot;, &quot;lineJoin&quot;: &quot;round&quot;, &quot;opacity&quot;: 1.0, &quot;radius&quot;: 1000, &quot;stroke&quot;: true, &quot;weight&quot;: 3}\n            ).addTo(map_ea9929c10109b24322daaf6eec3bf4f3);\n        \n    \n        var popup_fd18e9daa5d386b61049ba4ebefbfae9 = L.popup({\n  &quot;maxWidth&quot;: &quot;100%&quot;,\n});\n\n        \n            \n                var html_42a49879c78d1df0ab3eff0fadad9600 = $(`&lt;div id=&quot;html_42a49879c78d1df0ab3eff0fadad9600&quot; style=&quot;width: 100.0%; height: 100.0%;&quot;&gt;CCAFS LC-40&lt;/div&gt;`)[0];\n                popup_fd18e9daa5d386b61049ba4ebefbfae9.setContent(html_42a49879c78d1df0ab3eff0fadad9600);\n            \n        \n\n        circle_36a1bd2ba1aa3674522dad6b80f066a6.bindPopup(popup_fd18e9daa5d386b61049ba4ebefbfae9)\n        ;\n\n        \n    \n    \n            var marker_37e96b4aa8cd1ea406852ed8f9b2e20c = L.marker(\n                [28.56230197, -80.57735648],\n                {\n}\n            ).addTo(map_ea9929c10109b24322daaf6eec3bf4f3);\n        \n    \n            var div_icon_7a2441da0cb0d7c0c016867c8e733ce7 = L.divIcon({\n  &quot;html&quot;: &quot;\\u003cdiv style=\\&quot;font-size: 12; color:#d35400;\\&quot;\\u003e\\u003cb\\u003eCCAFS LC-40\\u003c/b\\u003e\\u003c/div\\u003e&quot;,\n  &quot;iconSize&quot;: [20, 20],\n  &quot;iconAnchor&quot;: [0, 0],\n  &quot;className&quot;: &quot;empty&quot;,\n});\n            marker_37e96b4aa8cd1ea406852ed8f9b2e20c.setIcon(div_icon_7a2441da0cb0d7c0c016867c8e733ce7);\n        \n    \n                marker_37e96b4aa8cd1ea406852ed8f9b2e20c.setIcon(div_icon_7a2441da0cb0d7c0c016867c8e733ce7);\n            \n    \n            var circle_587d5782f57a4bc5af20a1b9729c7822 = L.circle(\n                [28.56319718, -80.57682003],\n                {&quot;bubblingMouseEvents&quot;: true, &quot;color&quot;: &quot;#000000&quot;, &quot;dashArray&quot;: null, &quot;dashOffset&quot;: null, &quot;fill&quot;: true, &quot;fillColor&quot;: &quot;#000000&quot;, &quot;fillOpacity&quot;: 0.2, &quot;fillRule&quot;: &quot;evenodd&quot;, &quot;lineCap&quot;: &quot;round&quot;, &quot;lineJoin&quot;: &quot;round&quot;, &quot;opacity&quot;: 1.0, &quot;radius&quot;: 1000, &quot;stroke&quot;: true, &quot;weight&quot;: 3}\n            ).addTo(map_ea9929c10109b24322daaf6eec3bf4f3);\n        \n    \n        var popup_5c134b4360c85a6f77d2668e12edeecc = L.popup({\n  &quot;maxWidth&quot;: &quot;100%&quot;,\n});\n\n        \n            \n                var html_d8e2be91669190fcccf539ac8aa6bb84 = $(`&lt;div id=&quot;html_d8e2be91669190fcccf539ac8aa6bb84&quot; style=&quot;width: 100.0%; height: 100.0%;&quot;&gt;CCAFS SLC-40&lt;/div&gt;`)[0];\n                popup_5c134b4360c85a6f77d2668e12edeecc.setContent(html_d8e2be91669190fcccf539ac8aa6bb84);\n            \n        \n\n        circle_587d5782f57a4bc5af20a1b9729c7822.bindPopup(popup_5c134b4360c85a6f77d2668e12edeecc)\n        ;\n\n        \n    \n    \n            var marker_cea4725b464f7135966847095f7a2a02 = L.marker(\n                [28.56319718, -80.57682003],\n                {\n}\n            ).addTo(map_ea9929c10109b24322daaf6eec3bf4f3);\n        \n    \n            var div_icon_1e8093922e3291121900832487927401 = L.divIcon({\n  &quot;html&quot;: &quot;\\u003cdiv style=\\&quot;font-size: 12; color:#d35400;\\&quot;\\u003e\\u003cb\\u003eCCAFS SLC-40\\u003c/b\\u003e\\u003c/div\\u003e&quot;,\n  &quot;iconSize&quot;: [20, 20],\n  &quot;iconAnchor&quot;: [0, 0],\n  &quot;className&quot;: &quot;empty&quot;,\n});\n            marker_cea4725b464f7135966847095f7a2a02.setIcon(div_icon_1e8093922e3291121900832487927401);\n        \n    \n                marker_cea4725b464f7135966847095f7a2a02.setIcon(div_icon_1e8093922e3291121900832487927401);\n            \n    \n            var circle_6ed367b0cbe18a76ab8b15d78d9f7449 = L.circle(\n                [28.57325457, -80.64689529],\n                {&quot;bubblingMouseEvents&quot;: true, &quot;color&quot;: &quot;#000000&quot;, &quot;dashArray&quot;: null, &quot;dashOffset&quot;: null, &quot;fill&quot;: true, &quot;fillColor&quot;: &quot;#000000&quot;, &quot;fillOpacity&quot;: 0.2, &quot;fillRule&quot;: &quot;evenodd&quot;, &quot;lineCap&quot;: &quot;round&quot;, &quot;lineJoin&quot;: &quot;round&quot;, &quot;opacity&quot;: 1.0, &quot;radius&quot;: 1000, &quot;stroke&quot;: true, &quot;weight&quot;: 3}\n            ).addTo(map_ea9929c10109b24322daaf6eec3bf4f3);\n        \n    \n        var popup_6f745df37acbaea0db5f6f3dbb7b54da = L.popup({\n  &quot;maxWidth&quot;: &quot;100%&quot;,\n});\n\n        \n            \n                var html_de1230d52fa94fdb73854d6ca61b7f50 = $(`&lt;div id=&quot;html_de1230d52fa94fdb73854d6ca61b7f50&quot; style=&quot;width: 100.0%; height: 100.0%;&quot;&gt;KSC LC-39A&lt;/div&gt;`)[0];\n                popup_6f745df37acbaea0db5f6f3dbb7b54da.setContent(html_de1230d52fa94fdb73854d6ca61b7f50);\n            \n        \n\n        circle_6ed367b0cbe18a76ab8b15d78d9f7449.bindPopup(popup_6f745df37acbaea0db5f6f3dbb7b54da)\n        ;\n\n        \n    \n    \n            var marker_ca8b8d1300f562127aa0d6adcea5b735 = L.marker(\n                [28.57325457, -80.64689529],\n                {\n}\n            ).addTo(map_ea9929c10109b24322daaf6eec3bf4f3);\n        \n    \n            var div_icon_c715115531b25517aab8accd1c30a8ad = L.divIcon({\n  &quot;html&quot;: &quot;\\u003cdiv style=\\&quot;font-size: 12; color:#d35400;\\&quot;\\u003e\\u003cb\\u003eKSC LC-39A\\u003c/b\\u003e\\u003c/div\\u003e&quot;,\n  &quot;iconSize&quot;: [20, 20],\n  &quot;iconAnchor&quot;: [0, 0],\n  &quot;className&quot;: &quot;empty&quot;,\n});\n            marker_ca8b8d1300f562127aa0d6adcea5b735.setIcon(div_icon_c715115531b25517aab8accd1c30a8ad);\n        \n    \n                marker_ca8b8d1300f562127aa0d6adcea5b735.setIcon(div_icon_c715115531b25517aab8accd1c30a8ad);\n            \n    \n            var circle_cdaec54d2a74b72b29e4461895deb928 = L.circle(\n                [34.63283416, -120.6107455],\n                {&quot;bubblingMouseEvents&quot;: true, &quot;color&quot;: &quot;#000000&quot;, &quot;dashArray&quot;: null, &quot;dashOffset&quot;: null, &quot;fill&quot;: true, &quot;fillColor&quot;: &quot;#000000&quot;, &quot;fillOpacity&quot;: 0.2, &quot;fillRule&quot;: &quot;evenodd&quot;, &quot;lineCap&quot;: &quot;round&quot;, &quot;lineJoin&quot;: &quot;round&quot;, &quot;opacity&quot;: 1.0, &quot;radius&quot;: 1000, &quot;stroke&quot;: true, &quot;weight&quot;: 3}\n            ).addTo(map_ea9929c10109b24322daaf6eec3bf4f3);\n        \n    \n        var popup_b0324a7108c0c58a98bb06a913595d06 = L.popup({\n  &quot;maxWidth&quot;: &quot;100%&quot;,\n});\n\n        \n            \n                var html_6a7ad10f1d5a31dc35c99ee3a4a67fe9 = $(`&lt;div id=&quot;html_6a7ad10f1d5a31dc35c99ee3a4a67fe9&quot; style=&quot;width: 100.0%; height: 100.0%;&quot;&gt;VAFB SLC-4E&lt;/div&gt;`)[0];\n                popup_b0324a7108c0c58a98bb06a913595d06.setContent(html_6a7ad10f1d5a31dc35c99ee3a4a67fe9);\n            \n        \n\n        circle_cdaec54d2a74b72b29e4461895deb928.bindPopup(popup_b0324a7108c0c58a98bb06a913595d06)\n        ;\n\n        \n    \n    \n            var marker_1a95d99e7858dedc4083a85bb911e207 = L.marker(\n                [34.63283416, -120.6107455],\n                {\n}\n            ).addTo(map_ea9929c10109b24322daaf6eec3bf4f3);\n        \n    \n            var div_icon_8cad8d20760e0964ff0c603d25d7c64c = L.divIcon({\n  &quot;html&quot;: &quot;\\u003cdiv style=\\&quot;font-size: 12; color:#d35400;\\&quot;\\u003e\\u003cb\\u003eVAFB SLC-4E\\u003c/b\\u003e\\u003c/div\\u003e&quot;,\n  &quot;iconSize&quot;: [20, 20],\n  &quot;iconAnchor&quot;: [0, 0],\n  &quot;className&quot;: &quot;empty&quot;,\n});\n            marker_1a95d99e7858dedc4083a85bb911e207.setIcon(div_icon_8cad8d20760e0964ff0c603d25d7c64c);\n        \n    \n                marker_1a95d99e7858dedc4083a85bb911e207.setIcon(div_icon_8cad8d20760e0964ff0c603d25d7c64c);\n            \n    \n            tile_layer_0b1b58812eb628df0861a9dac4075dab.addTo(map_ea9929c10109b24322daaf6eec3bf4f3);\n        \n    \n                marker_37e96b4aa8cd1ea406852ed8f9b2e20c.setIcon(div_icon_7a2441da0cb0d7c0c016867c8e733ce7);\n            \n    \n                marker_cea4725b464f7135966847095f7a2a02.setIcon(div_icon_1e8093922e3291121900832487927401);\n            \n    \n                marker_ca8b8d1300f562127aa0d6adcea5b735.setIcon(div_icon_c715115531b25517aab8accd1c30a8ad);\n            \n    \n                marker_1a95d99e7858dedc4083a85bb911e207.setIcon(div_icon_8cad8d20760e0964ff0c603d25d7c64c);\n            \n    \n            var circle_8a304cf49281b0a0946d82d820c5981b = L.circle(\n                [29.559684888503615, -95.0830971930759],\n                {&quot;bubblingMouseEvents&quot;: true, &quot;color&quot;: &quot;#d35400&quot;, &quot;dashArray&quot;: null, &quot;dashOffset&quot;: null, &quot;fill&quot;: true, &quot;fillColor&quot;: &quot;#d35400&quot;, &quot;fillOpacity&quot;: 0.2, &quot;fillRule&quot;: &quot;evenodd&quot;, &quot;lineCap&quot;: &quot;round&quot;, &quot;lineJoin&quot;: &quot;round&quot;, &quot;opacity&quot;: 1.0, &quot;radius&quot;: 1000, &quot;stroke&quot;: true, &quot;weight&quot;: 3}\n            ).addTo(map_ea9929c10109b24322daaf6eec3bf4f3);\n        \n    \n        var popup_1e807efcc562091ebe366ecd5a1ece57 = L.popup({\n  &quot;maxWidth&quot;: &quot;100%&quot;,\n});\n\n        \n            \n                var html_5a5887e856fd20b6b54b7a9226c50190 = $(`&lt;div id=&quot;html_5a5887e856fd20b6b54b7a9226c50190&quot; style=&quot;width: 100.0%; height: 100.0%;&quot;&gt;NASA Johnson Space Center&lt;/div&gt;`)[0];\n                popup_1e807efcc562091ebe366ecd5a1ece57.setContent(html_5a5887e856fd20b6b54b7a9226c50190);\n            \n        \n\n        circle_8a304cf49281b0a0946d82d820c5981b.bindPopup(popup_1e807efcc562091ebe366ecd5a1ece57)\n        ;\n\n        \n    \n    \n            var marker_2ff6320215f9a246245ff4a81006238f = L.marker(\n                [29.559684888503615, -95.0830971930759],\n                {\n}\n            ).addTo(map_ea9929c10109b24322daaf6eec3bf4f3);\n        \n    \n            var div_icon_8ec6dc7a601cc636e2283a846fc3fe08 = L.divIcon({\n  &quot;html&quot;: &quot;\\u003cdiv style=\\&quot;font-size: 12; color:#d35400;\\&quot;\\u003e\\u003cb\\u003eNASA JSC\\u003c/b\\u003e\\u003c/div\\u003e&quot;,\n  &quot;iconSize&quot;: [20, 20],\n  &quot;iconAnchor&quot;: [0, 0],\n  &quot;className&quot;: &quot;empty&quot;,\n});\n            marker_2ff6320215f9a246245ff4a81006238f.setIcon(div_icon_8ec6dc7a601cc636e2283a846fc3fe08);\n        \n    \n                marker_2ff6320215f9a246245ff4a81006238f.setIcon(div_icon_8ec6dc7a601cc636e2283a846fc3fe08);\n            \n&lt;/script&gt;\n&lt;/html&gt;\" style=\"position:absolute;width:100%;height:100%;left:0;top:0;border:none !important;\" allowfullscreen webkitallowfullscreen mozallowfullscreen></iframe></div></div>"
          },
          "metadata": {}
        }
      ],
      "execution_count": 12
    },
    {
      "cell_type": "markdown",
      "source": "and you should find a small yellow circle near the city of Houston and you can zoom-in to see a larger circle.\n",
      "metadata": {}
    },
    {
      "cell_type": "markdown",
      "source": "Now, let's add a circle for each launch site in data frame `launch_sites`\n",
      "metadata": {}
    },
    {
      "cell_type": "markdown",
      "source": "*TODO:*  Create and add `folium.Circle` and `folium.Marker` for each launch site on the site map\n",
      "metadata": {}
    },
    {
      "cell_type": "markdown",
      "source": "An example of folium.Circle:\n",
      "metadata": {}
    },
    {
      "cell_type": "markdown",
      "source": "`folium.Circle(coordinate, radius=1000, color='#000000', fill=True).add_child(folium.Popup(...))`\n",
      "metadata": {}
    },
    {
      "cell_type": "markdown",
      "source": "An example of folium.Marker:\n",
      "metadata": {}
    },
    {
      "cell_type": "markdown",
      "source": "`folium.map.Marker(coordinate, icon=DivIcon(icon_size=(20,20),icon_anchor=(0,0), html='<div style=\"font-size: 12; color:#d35400;\"><b>%s</b></div>' % 'label', ))`\n",
      "metadata": {}
    },
    {
      "cell_type": "code",
      "source": "# Initial the map\nsite_map = folium.Map(location=nasa_coordinate, zoom_start=5)\n# For each launch site, add a Circle object based on its coordinate (Lat, Long) values. In addition, add Launch site name as a popup label\n",
      "metadata": {},
      "outputs": [],
      "execution_count": null
    },
    {
      "cell_type": "markdown",
      "source": "The generated map with marked launch sites should look similar to the following:\n",
      "metadata": {}
    },
    {
      "cell_type": "markdown",
      "source": "<center>\n    <img src=\"https://cf-courses-data.s3.us.cloud-object-storage.appdomain.cloud/IBM-DS0321EN-SkillsNetwork/labs/module_3/images/launch_site_markers.png\">\n</center>\n",
      "metadata": {}
    },
    {
      "cell_type": "markdown",
      "source": "Now, you can explore the map by zoom-in/out the marked areas\n, and try to answer the following questions:\n\n*   Are all launch sites in proximity to the Equator line?\n*   Are all launch sites in very close proximity to the coast?\n\nAlso please try to explain your findings.\n",
      "metadata": {}
    },
    {
      "cell_type": "code",
      "source": "# Task 2: Mark the success/failed launches for each site on the map\n",
      "metadata": {
        "trusted": true
      },
      "outputs": [],
      "execution_count": 24
    },
    {
      "cell_type": "markdown",
      "source": "Next, let's try to enhance the map by adding the launch outcomes for each site, and see which sites have high success rates.\nRecall that data frame spacex_df has detailed launch records, and the `class` column indicates if this launch was successful or not\n",
      "metadata": {}
    },
    {
      "cell_type": "code",
      "source": "spacex_df.tail(10)",
      "metadata": {
        "trusted": true
      },
      "outputs": [
        {
          "execution_count": 15,
          "output_type": "execute_result",
          "data": {
            "text/plain": "     Launch Site        Lat       Long  class marker_color\n46    KSC LC-39A  28.573255 -80.646895      1        green\n47    KSC LC-39A  28.573255 -80.646895      1        green\n48    KSC LC-39A  28.573255 -80.646895      1        green\n49  CCAFS SLC-40  28.563197 -80.576820      1        green\n50  CCAFS SLC-40  28.563197 -80.576820      1        green\n51  CCAFS SLC-40  28.563197 -80.576820      0          red\n52  CCAFS SLC-40  28.563197 -80.576820      0          red\n53  CCAFS SLC-40  28.563197 -80.576820      0          red\n54  CCAFS SLC-40  28.563197 -80.576820      1        green\n55  CCAFS SLC-40  28.563197 -80.576820      0          red",
            "text/html": "<div>\n<style scoped>\n    .dataframe tbody tr th:only-of-type {\n        vertical-align: middle;\n    }\n\n    .dataframe tbody tr th {\n        vertical-align: top;\n    }\n\n    .dataframe thead th {\n        text-align: right;\n    }\n</style>\n<table border=\"1\" class=\"dataframe\">\n  <thead>\n    <tr style=\"text-align: right;\">\n      <th></th>\n      <th>Launch Site</th>\n      <th>Lat</th>\n      <th>Long</th>\n      <th>class</th>\n      <th>marker_color</th>\n    </tr>\n  </thead>\n  <tbody>\n    <tr>\n      <th>46</th>\n      <td>KSC LC-39A</td>\n      <td>28.573255</td>\n      <td>-80.646895</td>\n      <td>1</td>\n      <td>green</td>\n    </tr>\n    <tr>\n      <th>47</th>\n      <td>KSC LC-39A</td>\n      <td>28.573255</td>\n      <td>-80.646895</td>\n      <td>1</td>\n      <td>green</td>\n    </tr>\n    <tr>\n      <th>48</th>\n      <td>KSC LC-39A</td>\n      <td>28.573255</td>\n      <td>-80.646895</td>\n      <td>1</td>\n      <td>green</td>\n    </tr>\n    <tr>\n      <th>49</th>\n      <td>CCAFS SLC-40</td>\n      <td>28.563197</td>\n      <td>-80.576820</td>\n      <td>1</td>\n      <td>green</td>\n    </tr>\n    <tr>\n      <th>50</th>\n      <td>CCAFS SLC-40</td>\n      <td>28.563197</td>\n      <td>-80.576820</td>\n      <td>1</td>\n      <td>green</td>\n    </tr>\n    <tr>\n      <th>51</th>\n      <td>CCAFS SLC-40</td>\n      <td>28.563197</td>\n      <td>-80.576820</td>\n      <td>0</td>\n      <td>red</td>\n    </tr>\n    <tr>\n      <th>52</th>\n      <td>CCAFS SLC-40</td>\n      <td>28.563197</td>\n      <td>-80.576820</td>\n      <td>0</td>\n      <td>red</td>\n    </tr>\n    <tr>\n      <th>53</th>\n      <td>CCAFS SLC-40</td>\n      <td>28.563197</td>\n      <td>-80.576820</td>\n      <td>0</td>\n      <td>red</td>\n    </tr>\n    <tr>\n      <th>54</th>\n      <td>CCAFS SLC-40</td>\n      <td>28.563197</td>\n      <td>-80.576820</td>\n      <td>1</td>\n      <td>green</td>\n    </tr>\n    <tr>\n      <th>55</th>\n      <td>CCAFS SLC-40</td>\n      <td>28.563197</td>\n      <td>-80.576820</td>\n      <td>0</td>\n      <td>red</td>\n    </tr>\n  </tbody>\n</table>\n</div>"
          },
          "metadata": {}
        }
      ],
      "execution_count": 15
    },
    {
      "cell_type": "markdown",
      "source": "Next, let's create markers for all launch records.\nIf a launch was successful `(class=1)`, then we use a green marker and if a launch was failed, we use a red marker `(class=0)`\n",
      "metadata": {}
    },
    {
      "cell_type": "markdown",
      "source": "Note that a launch only happens in one of the four launch sites, which means many launch records will have the exact same coordinate. Marker clusters can be a good way to simplify a map containing many markers having the same coordinate.\n",
      "metadata": {}
    },
    {
      "cell_type": "markdown",
      "source": "Let's first create a `MarkerCluster` object\n",
      "metadata": {}
    },
    {
      "cell_type": "code",
      "source": "marker_cluster = MarkerCluster()\n",
      "metadata": {
        "trusted": true
      },
      "outputs": [],
      "execution_count": 16
    },
    {
      "cell_type": "markdown",
      "source": "*TODO:* Create a new column in `spacex_df` dataframe called `marker_color` to store the marker colors based on the `class` value\n",
      "metadata": {}
    },
    {
      "cell_type": "code",
      "source": "\n# Apply a function to check the value of `class` column\n# If class=1, marker_color value will be green\n# If class=0, marker_color value will be red\n",
      "metadata": {},
      "outputs": [],
      "execution_count": null
    },
    {
      "cell_type": "markdown",
      "source": "*TODO:* For each launch result in `spacex_df` data frame, add a `folium.Marker` to `marker_cluster`\n",
      "metadata": {}
    },
    {
      "cell_type": "code",
      "source": "# Add marker_cluster to current site_map\nsite_map.add_child(marker_cluster)\n\n# for each row in spacex_df data frame\n# create a Marker object with its coordinate\n# and customize the Marker's icon property to indicate if this launch was successed or failed, \n# e.g., icon=folium.Icon(color='white', icon_color=row['marker_color']\nfor index, record in spacex_df.iterrows():\n    # TODO: Create and add a Marker cluster to the site map\n    # marker = folium.Marker(...)\n    marker_cluster.add_child(marker)\n\nsite_map",
      "metadata": {
        "trusted": true
      },
      "outputs": [
        {
          "execution_count": 17,
          "output_type": "execute_result",
          "data": {
            "text/plain": "<folium.folium.Map at 0x5db7a18>",
            "text/html": "<div style=\"width:100%;\"><div style=\"position:relative;width:100%;height:0;padding-bottom:60%;\"><span style=\"color:#565656\">Make this Notebook Trusted to load map: File -> Trust Notebook</span><iframe srcdoc=\"&lt;!DOCTYPE html&gt;\n&lt;html&gt;\n&lt;head&gt;\n    \n    &lt;meta http-equiv=&quot;content-type&quot; content=&quot;text/html; charset=UTF-8&quot; /&gt;\n    \n        &lt;script&gt;\n            L_NO_TOUCH = false;\n            L_DISABLE_3D = false;\n        &lt;/script&gt;\n    \n    &lt;style&gt;html, body {width: 100%;height: 100%;margin: 0;padding: 0;}&lt;/style&gt;\n    &lt;style&gt;#map {position:absolute;top:0;bottom:0;right:0;left:0;}&lt;/style&gt;\n    &lt;script src=&quot;https://cdn.jsdelivr.net/npm/leaflet@1.9.3/dist/leaflet.js&quot;&gt;&lt;/script&gt;\n    &lt;script src=&quot;https://code.jquery.com/jquery-3.7.1.min.js&quot;&gt;&lt;/script&gt;\n    &lt;script src=&quot;https://cdn.jsdelivr.net/npm/bootstrap@5.2.2/dist/js/bootstrap.bundle.min.js&quot;&gt;&lt;/script&gt;\n    &lt;script src=&quot;https://cdnjs.cloudflare.com/ajax/libs/Leaflet.awesome-markers/2.0.2/leaflet.awesome-markers.js&quot;&gt;&lt;/script&gt;\n    &lt;link rel=&quot;stylesheet&quot; href=&quot;https://cdn.jsdelivr.net/npm/leaflet@1.9.3/dist/leaflet.css&quot;/&gt;\n    &lt;link rel=&quot;stylesheet&quot; href=&quot;https://cdn.jsdelivr.net/npm/bootstrap@5.2.2/dist/css/bootstrap.min.css&quot;/&gt;\n    &lt;link rel=&quot;stylesheet&quot; href=&quot;https://netdna.bootstrapcdn.com/bootstrap/3.0.0/css/bootstrap-glyphicons.css&quot;/&gt;\n    &lt;link rel=&quot;stylesheet&quot; href=&quot;https://cdn.jsdelivr.net/npm/@fortawesome/fontawesome-free@6.2.0/css/all.min.css&quot;/&gt;\n    &lt;link rel=&quot;stylesheet&quot; href=&quot;https://cdnjs.cloudflare.com/ajax/libs/Leaflet.awesome-markers/2.0.2/leaflet.awesome-markers.css&quot;/&gt;\n    &lt;link rel=&quot;stylesheet&quot; href=&quot;https://cdn.jsdelivr.net/gh/python-visualization/folium/folium/templates/leaflet.awesome.rotate.min.css&quot;/&gt;\n    \n            &lt;meta name=&quot;viewport&quot; content=&quot;width=device-width,\n                initial-scale=1.0, maximum-scale=1.0, user-scalable=no&quot; /&gt;\n            &lt;style&gt;\n                #map_2d07d2618c5a1583c63a879593b3439e {\n                    position: relative;\n                    width: 100.0%;\n                    height: 100.0%;\n                    left: 0.0%;\n                    top: 0.0%;\n                }\n                .leaflet-container { font-size: 1rem; }\n            &lt;/style&gt;\n        \n    &lt;script src=&quot;https://cdnjs.cloudflare.com/ajax/libs/leaflet.markercluster/1.1.0/leaflet.markercluster.js&quot;&gt;&lt;/script&gt;\n    &lt;link rel=&quot;stylesheet&quot; href=&quot;https://cdnjs.cloudflare.com/ajax/libs/leaflet.markercluster/1.1.0/MarkerCluster.css&quot;/&gt;\n    &lt;link rel=&quot;stylesheet&quot; href=&quot;https://cdnjs.cloudflare.com/ajax/libs/leaflet.markercluster/1.1.0/MarkerCluster.Default.css&quot;/&gt;\n&lt;/head&gt;\n&lt;body&gt;\n    \n    \n            &lt;div class=&quot;folium-map&quot; id=&quot;map_2d07d2618c5a1583c63a879593b3439e&quot; &gt;&lt;/div&gt;\n        \n&lt;/body&gt;\n&lt;script&gt;\n    \n    \n            var map_2d07d2618c5a1583c63a879593b3439e = L.map(\n                &quot;map_2d07d2618c5a1583c63a879593b3439e&quot;,\n                {\n                    center: [29.559684888503615, -95.0830971930759],\n                    crs: L.CRS.EPSG3857,\n                    ...{\n  &quot;zoom&quot;: 5,\n  &quot;zoomControl&quot;: true,\n  &quot;preferCanvas&quot;: false,\n}\n\n                }\n            );\n\n            \n\n        \n    \n            var tile_layer_aad8eb62e949c5e7fa732687be40277e = L.tileLayer(\n                &quot;https://tile.openstreetmap.org/{z}/{x}/{y}.png&quot;,\n                {\n  &quot;minZoom&quot;: 0,\n  &quot;maxZoom&quot;: 19,\n  &quot;maxNativeZoom&quot;: 19,\n  &quot;noWrap&quot;: false,\n  &quot;attribution&quot;: &quot;\\u0026copy; \\u003ca href=\\&quot;https://www.openstreetmap.org/copyright\\&quot;\\u003eOpenStreetMap\\u003c/a\\u003e contributors&quot;,\n  &quot;subdomains&quot;: &quot;abc&quot;,\n  &quot;detectRetina&quot;: false,\n  &quot;tms&quot;: false,\n  &quot;opacity&quot;: 1,\n}\n\n            );\n        \n    \n            tile_layer_aad8eb62e949c5e7fa732687be40277e.addTo(map_2d07d2618c5a1583c63a879593b3439e);\n        \n    \n            var circle_1f8f966cf990d36c28b92d89f31a3e32 = L.circle(\n                [28.56230197, -80.57735648],\n                {&quot;bubblingMouseEvents&quot;: true, &quot;color&quot;: &quot;#000000&quot;, &quot;dashArray&quot;: null, &quot;dashOffset&quot;: null, &quot;fill&quot;: true, &quot;fillColor&quot;: &quot;#000000&quot;, &quot;fillOpacity&quot;: 0.2, &quot;fillRule&quot;: &quot;evenodd&quot;, &quot;lineCap&quot;: &quot;round&quot;, &quot;lineJoin&quot;: &quot;round&quot;, &quot;opacity&quot;: 1.0, &quot;radius&quot;: 1000, &quot;stroke&quot;: true, &quot;weight&quot;: 3}\n            ).addTo(map_2d07d2618c5a1583c63a879593b3439e);\n        \n    \n        var popup_d3159b650bae0d9e1e8b75e7a4f63be3 = L.popup({\n  &quot;maxWidth&quot;: &quot;100%&quot;,\n});\n\n        \n            \n                var html_8e046fba03449e28b66755f38fc8ac8d = $(`&lt;div id=&quot;html_8e046fba03449e28b66755f38fc8ac8d&quot; style=&quot;width: 100.0%; height: 100.0%;&quot;&gt;CCAFS LC-40&lt;/div&gt;`)[0];\n                popup_d3159b650bae0d9e1e8b75e7a4f63be3.setContent(html_8e046fba03449e28b66755f38fc8ac8d);\n            \n        \n\n        circle_1f8f966cf990d36c28b92d89f31a3e32.bindPopup(popup_d3159b650bae0d9e1e8b75e7a4f63be3)\n        ;\n\n        \n    \n    \n            var marker_fb8cf36bbc7ff42e8a3a91494bf9cd91 = L.marker(\n                [28.56230197, -80.57735648],\n                {\n}\n            ).addTo(map_2d07d2618c5a1583c63a879593b3439e);\n        \n    \n            var div_icon_3e0bfd90dad3e72246acc1dc43dce2f9 = L.divIcon({\n  &quot;html&quot;: &quot;\\u003cdiv style=\\&quot;font-size: 12; color:#d35400;\\&quot;\\u003e\\u003cb\\u003eCCAFS LC-40\\u003c/b\\u003e\\u003c/div\\u003e&quot;,\n  &quot;iconSize&quot;: [20, 20],\n  &quot;iconAnchor&quot;: [0, 0],\n  &quot;className&quot;: &quot;empty&quot;,\n});\n            marker_fb8cf36bbc7ff42e8a3a91494bf9cd91.setIcon(div_icon_3e0bfd90dad3e72246acc1dc43dce2f9);\n        \n    \n                marker_fb8cf36bbc7ff42e8a3a91494bf9cd91.setIcon(div_icon_3e0bfd90dad3e72246acc1dc43dce2f9);\n            \n    \n            var circle_e7b0019cd4da4165e643c89a86583d7e = L.circle(\n                [28.56319718, -80.57682003],\n                {&quot;bubblingMouseEvents&quot;: true, &quot;color&quot;: &quot;#000000&quot;, &quot;dashArray&quot;: null, &quot;dashOffset&quot;: null, &quot;fill&quot;: true, &quot;fillColor&quot;: &quot;#000000&quot;, &quot;fillOpacity&quot;: 0.2, &quot;fillRule&quot;: &quot;evenodd&quot;, &quot;lineCap&quot;: &quot;round&quot;, &quot;lineJoin&quot;: &quot;round&quot;, &quot;opacity&quot;: 1.0, &quot;radius&quot;: 1000, &quot;stroke&quot;: true, &quot;weight&quot;: 3}\n            ).addTo(map_2d07d2618c5a1583c63a879593b3439e);\n        \n    \n        var popup_6c9362dda7a9605288c6d5aee81c1528 = L.popup({\n  &quot;maxWidth&quot;: &quot;100%&quot;,\n});\n\n        \n            \n                var html_25d19d37deb2530916cd6c210d0c7add = $(`&lt;div id=&quot;html_25d19d37deb2530916cd6c210d0c7add&quot; style=&quot;width: 100.0%; height: 100.0%;&quot;&gt;CCAFS SLC-40&lt;/div&gt;`)[0];\n                popup_6c9362dda7a9605288c6d5aee81c1528.setContent(html_25d19d37deb2530916cd6c210d0c7add);\n            \n        \n\n        circle_e7b0019cd4da4165e643c89a86583d7e.bindPopup(popup_6c9362dda7a9605288c6d5aee81c1528)\n        ;\n\n        \n    \n    \n            var marker_0634201c6dbe6874ff3b9d570935f37b = L.marker(\n                [28.56319718, -80.57682003],\n                {\n}\n            ).addTo(map_2d07d2618c5a1583c63a879593b3439e);\n        \n    \n            var div_icon_3836b283d8e3e61b8df050558e6817f0 = L.divIcon({\n  &quot;html&quot;: &quot;\\u003cdiv style=\\&quot;font-size: 12; color:#d35400;\\&quot;\\u003e\\u003cb\\u003eCCAFS SLC-40\\u003c/b\\u003e\\u003c/div\\u003e&quot;,\n  &quot;iconSize&quot;: [20, 20],\n  &quot;iconAnchor&quot;: [0, 0],\n  &quot;className&quot;: &quot;empty&quot;,\n});\n            marker_0634201c6dbe6874ff3b9d570935f37b.setIcon(div_icon_3836b283d8e3e61b8df050558e6817f0);\n        \n    \n                marker_0634201c6dbe6874ff3b9d570935f37b.setIcon(div_icon_3836b283d8e3e61b8df050558e6817f0);\n            \n    \n            var circle_aeda7c3b5a0abe22d132a8dd44845ae3 = L.circle(\n                [28.57325457, -80.64689529],\n                {&quot;bubblingMouseEvents&quot;: true, &quot;color&quot;: &quot;#000000&quot;, &quot;dashArray&quot;: null, &quot;dashOffset&quot;: null, &quot;fill&quot;: true, &quot;fillColor&quot;: &quot;#000000&quot;, &quot;fillOpacity&quot;: 0.2, &quot;fillRule&quot;: &quot;evenodd&quot;, &quot;lineCap&quot;: &quot;round&quot;, &quot;lineJoin&quot;: &quot;round&quot;, &quot;opacity&quot;: 1.0, &quot;radius&quot;: 1000, &quot;stroke&quot;: true, &quot;weight&quot;: 3}\n            ).addTo(map_2d07d2618c5a1583c63a879593b3439e);\n        \n    \n        var popup_6801a4a2477f4d740370c51fd168603b = L.popup({\n  &quot;maxWidth&quot;: &quot;100%&quot;,\n});\n\n        \n            \n                var html_4d31e923ede6e6d0bfe11093ae8ffba2 = $(`&lt;div id=&quot;html_4d31e923ede6e6d0bfe11093ae8ffba2&quot; style=&quot;width: 100.0%; height: 100.0%;&quot;&gt;KSC LC-39A&lt;/div&gt;`)[0];\n                popup_6801a4a2477f4d740370c51fd168603b.setContent(html_4d31e923ede6e6d0bfe11093ae8ffba2);\n            \n        \n\n        circle_aeda7c3b5a0abe22d132a8dd44845ae3.bindPopup(popup_6801a4a2477f4d740370c51fd168603b)\n        ;\n\n        \n    \n    \n            var marker_7f6d74c0e7893254cc51e9c88d32f8e1 = L.marker(\n                [28.57325457, -80.64689529],\n                {\n}\n            ).addTo(map_2d07d2618c5a1583c63a879593b3439e);\n        \n    \n            var div_icon_549c45339c1652b21e788ac8edf7ac79 = L.divIcon({\n  &quot;html&quot;: &quot;\\u003cdiv style=\\&quot;font-size: 12; color:#d35400;\\&quot;\\u003e\\u003cb\\u003eKSC LC-39A\\u003c/b\\u003e\\u003c/div\\u003e&quot;,\n  &quot;iconSize&quot;: [20, 20],\n  &quot;iconAnchor&quot;: [0, 0],\n  &quot;className&quot;: &quot;empty&quot;,\n});\n            marker_7f6d74c0e7893254cc51e9c88d32f8e1.setIcon(div_icon_549c45339c1652b21e788ac8edf7ac79);\n        \n    \n                marker_7f6d74c0e7893254cc51e9c88d32f8e1.setIcon(div_icon_549c45339c1652b21e788ac8edf7ac79);\n            \n    \n            var circle_551ce535863ef746854cd374ca64bc77 = L.circle(\n                [34.63283416, -120.6107455],\n                {&quot;bubblingMouseEvents&quot;: true, &quot;color&quot;: &quot;#000000&quot;, &quot;dashArray&quot;: null, &quot;dashOffset&quot;: null, &quot;fill&quot;: true, &quot;fillColor&quot;: &quot;#000000&quot;, &quot;fillOpacity&quot;: 0.2, &quot;fillRule&quot;: &quot;evenodd&quot;, &quot;lineCap&quot;: &quot;round&quot;, &quot;lineJoin&quot;: &quot;round&quot;, &quot;opacity&quot;: 1.0, &quot;radius&quot;: 1000, &quot;stroke&quot;: true, &quot;weight&quot;: 3}\n            ).addTo(map_2d07d2618c5a1583c63a879593b3439e);\n        \n    \n        var popup_70fc8e276b78fa742d8c975f1732d403 = L.popup({\n  &quot;maxWidth&quot;: &quot;100%&quot;,\n});\n\n        \n            \n                var html_57a4538140f9f3ec95acd11c0a67c34c = $(`&lt;div id=&quot;html_57a4538140f9f3ec95acd11c0a67c34c&quot; style=&quot;width: 100.0%; height: 100.0%;&quot;&gt;VAFB SLC-4E&lt;/div&gt;`)[0];\n                popup_70fc8e276b78fa742d8c975f1732d403.setContent(html_57a4538140f9f3ec95acd11c0a67c34c);\n            \n        \n\n        circle_551ce535863ef746854cd374ca64bc77.bindPopup(popup_70fc8e276b78fa742d8c975f1732d403)\n        ;\n\n        \n    \n    \n            var marker_43fc9ac41c9d513d32d88cecb64d90b4 = L.marker(\n                [34.63283416, -120.6107455],\n                {\n}\n            ).addTo(marker_cluster_3584bff26689377ffe9c55c2f089e031);\n        \n    \n            var div_icon_682fd70209fcede6229cc68a36aada7a = L.divIcon({\n  &quot;html&quot;: &quot;\\u003cdiv style=\\&quot;font-size: 12; color:#d35400;\\&quot;\\u003e\\u003cb\\u003eVAFB SLC-4E\\u003c/b\\u003e\\u003c/div\\u003e&quot;,\n  &quot;iconSize&quot;: [20, 20],\n  &quot;iconAnchor&quot;: [0, 0],\n  &quot;className&quot;: &quot;empty&quot;,\n});\n            marker_43fc9ac41c9d513d32d88cecb64d90b4.setIcon(div_icon_682fd70209fcede6229cc68a36aada7a);\n        \n    \n                marker_43fc9ac41c9d513d32d88cecb64d90b4.setIcon(div_icon_682fd70209fcede6229cc68a36aada7a);\n            \n    \n            tile_layer_aad8eb62e949c5e7fa732687be40277e.addTo(map_2d07d2618c5a1583c63a879593b3439e);\n        \n    \n                marker_fb8cf36bbc7ff42e8a3a91494bf9cd91.setIcon(div_icon_3e0bfd90dad3e72246acc1dc43dce2f9);\n            \n    \n                marker_0634201c6dbe6874ff3b9d570935f37b.setIcon(div_icon_3836b283d8e3e61b8df050558e6817f0);\n            \n    \n                marker_7f6d74c0e7893254cc51e9c88d32f8e1.setIcon(div_icon_549c45339c1652b21e788ac8edf7ac79);\n            \n    \n                marker_43fc9ac41c9d513d32d88cecb64d90b4.setIcon(div_icon_682fd70209fcede6229cc68a36aada7a);\n            \n    \n            var marker_cluster_3584bff26689377ffe9c55c2f089e031 = L.markerClusterGroup(\n                {\n}\n            );\n        \n    \n                marker_43fc9ac41c9d513d32d88cecb64d90b4.setIcon(div_icon_682fd70209fcede6229cc68a36aada7a);\n            \n    \n            marker_cluster_3584bff26689377ffe9c55c2f089e031.addTo(map_2d07d2618c5a1583c63a879593b3439e);\n        \n&lt;/script&gt;\n&lt;/html&gt;\" style=\"position:absolute;width:100%;height:100%;left:0;top:0;border:none !important;\" allowfullscreen webkitallowfullscreen mozallowfullscreen></iframe></div></div>"
          },
          "metadata": {}
        }
      ],
      "execution_count": 17
    },
    {
      "cell_type": "markdown",
      "source": "Your updated map may look like the following screenshots:\n",
      "metadata": {}
    },
    {
      "cell_type": "markdown",
      "source": "<center>\n    <img src=\"https://cf-courses-data.s3.us.cloud-object-storage.appdomain.cloud/IBM-DS0321EN-SkillsNetwork/labs/module_3/images/launch_site_marker_cluster.png\">\n</center>\n",
      "metadata": {}
    },
    {
      "cell_type": "markdown",
      "source": "<center>\n    <img src=\"https://cf-courses-data.s3.us.cloud-object-storage.appdomain.cloud/IBM-DS0321EN-SkillsNetwork/labs/module_3/images/launch_site_marker_cluster_zoomed.png\">\n</center>\n",
      "metadata": {}
    },
    {
      "cell_type": "markdown",
      "source": "From the color-labeled markers in marker clusters, you should be able to easily identify which launch sites have relatively high success rates.\n",
      "metadata": {}
    },
    {
      "cell_type": "code",
      "source": "# TASK 3: Calculate the distances between a launch site to its proximities\n",
      "metadata": {},
      "outputs": [],
      "execution_count": null
    },
    {
      "cell_type": "markdown",
      "source": "Next, we need to explore and analyze the proximities of launch sites.\n",
      "metadata": {}
    },
    {
      "cell_type": "markdown",
      "source": "Let's first add a `MousePosition` on the map to get coordinate for a mouse over a point on the map. As such, while you are exploring the map, you can easily find the coordinates of any points of interests (such as railway)\n",
      "metadata": {}
    },
    {
      "cell_type": "code",
      "source": "# Add Mouse Position to get the coordinate (Lat, Long) for a mouse over on the map\nformatter = \"function(num) {return L.Util.formatNum(num, 5);};\"\nmouse_position = MousePosition(\n    position='topright',\n    separator=' Long: ',\n    empty_string='NaN',\n    lng_first=False,\n    num_digits=20,\n    prefix='Lat:',\n    lat_formatter=formatter,\n    lng_formatter=formatter,\n)\n\nsite_map.add_child(mouse_position)\nsite_map",
      "metadata": {
        "trusted": true
      },
      "outputs": [
        {
          "execution_count": 18,
          "output_type": "execute_result",
          "data": {
            "text/plain": "<folium.folium.Map at 0x5db7a18>",
            "text/html": "<div style=\"width:100%;\"><div style=\"position:relative;width:100%;height:0;padding-bottom:60%;\"><span style=\"color:#565656\">Make this Notebook Trusted to load map: File -> Trust Notebook</span><iframe srcdoc=\"&lt;!DOCTYPE html&gt;\n&lt;html&gt;\n&lt;head&gt;\n    \n    &lt;meta http-equiv=&quot;content-type&quot; content=&quot;text/html; charset=UTF-8&quot; /&gt;\n    \n        &lt;script&gt;\n            L_NO_TOUCH = false;\n            L_DISABLE_3D = false;\n        &lt;/script&gt;\n    \n    &lt;style&gt;html, body {width: 100%;height: 100%;margin: 0;padding: 0;}&lt;/style&gt;\n    &lt;style&gt;#map {position:absolute;top:0;bottom:0;right:0;left:0;}&lt;/style&gt;\n    &lt;script src=&quot;https://cdn.jsdelivr.net/npm/leaflet@1.9.3/dist/leaflet.js&quot;&gt;&lt;/script&gt;\n    &lt;script src=&quot;https://code.jquery.com/jquery-3.7.1.min.js&quot;&gt;&lt;/script&gt;\n    &lt;script src=&quot;https://cdn.jsdelivr.net/npm/bootstrap@5.2.2/dist/js/bootstrap.bundle.min.js&quot;&gt;&lt;/script&gt;\n    &lt;script src=&quot;https://cdnjs.cloudflare.com/ajax/libs/Leaflet.awesome-markers/2.0.2/leaflet.awesome-markers.js&quot;&gt;&lt;/script&gt;\n    &lt;link rel=&quot;stylesheet&quot; href=&quot;https://cdn.jsdelivr.net/npm/leaflet@1.9.3/dist/leaflet.css&quot;/&gt;\n    &lt;link rel=&quot;stylesheet&quot; href=&quot;https://cdn.jsdelivr.net/npm/bootstrap@5.2.2/dist/css/bootstrap.min.css&quot;/&gt;\n    &lt;link rel=&quot;stylesheet&quot; href=&quot;https://netdna.bootstrapcdn.com/bootstrap/3.0.0/css/bootstrap-glyphicons.css&quot;/&gt;\n    &lt;link rel=&quot;stylesheet&quot; href=&quot;https://cdn.jsdelivr.net/npm/@fortawesome/fontawesome-free@6.2.0/css/all.min.css&quot;/&gt;\n    &lt;link rel=&quot;stylesheet&quot; href=&quot;https://cdnjs.cloudflare.com/ajax/libs/Leaflet.awesome-markers/2.0.2/leaflet.awesome-markers.css&quot;/&gt;\n    &lt;link rel=&quot;stylesheet&quot; href=&quot;https://cdn.jsdelivr.net/gh/python-visualization/folium/folium/templates/leaflet.awesome.rotate.min.css&quot;/&gt;\n    \n            &lt;meta name=&quot;viewport&quot; content=&quot;width=device-width,\n                initial-scale=1.0, maximum-scale=1.0, user-scalable=no&quot; /&gt;\n            &lt;style&gt;\n                #map_2d07d2618c5a1583c63a879593b3439e {\n                    position: relative;\n                    width: 100.0%;\n                    height: 100.0%;\n                    left: 0.0%;\n                    top: 0.0%;\n                }\n                .leaflet-container { font-size: 1rem; }\n            &lt;/style&gt;\n        \n    &lt;script src=&quot;https://cdnjs.cloudflare.com/ajax/libs/leaflet.markercluster/1.1.0/leaflet.markercluster.js&quot;&gt;&lt;/script&gt;\n    &lt;link rel=&quot;stylesheet&quot; href=&quot;https://cdnjs.cloudflare.com/ajax/libs/leaflet.markercluster/1.1.0/MarkerCluster.css&quot;/&gt;\n    &lt;link rel=&quot;stylesheet&quot; href=&quot;https://cdnjs.cloudflare.com/ajax/libs/leaflet.markercluster/1.1.0/MarkerCluster.Default.css&quot;/&gt;\n    &lt;script src=&quot;https://cdn.jsdelivr.net/gh/ardhi/Leaflet.MousePosition/src/L.Control.MousePosition.min.js&quot;&gt;&lt;/script&gt;\n    &lt;link rel=&quot;stylesheet&quot; href=&quot;https://cdn.jsdelivr.net/gh/ardhi/Leaflet.MousePosition/src/L.Control.MousePosition.min.css&quot;/&gt;\n&lt;/head&gt;\n&lt;body&gt;\n    \n    \n            &lt;div class=&quot;folium-map&quot; id=&quot;map_2d07d2618c5a1583c63a879593b3439e&quot; &gt;&lt;/div&gt;\n        \n&lt;/body&gt;\n&lt;script&gt;\n    \n    \n            var map_2d07d2618c5a1583c63a879593b3439e = L.map(\n                &quot;map_2d07d2618c5a1583c63a879593b3439e&quot;,\n                {\n                    center: [29.559684888503615, -95.0830971930759],\n                    crs: L.CRS.EPSG3857,\n                    ...{\n  &quot;zoom&quot;: 5,\n  &quot;zoomControl&quot;: true,\n  &quot;preferCanvas&quot;: false,\n}\n\n                }\n            );\n\n            \n\n        \n    \n            var tile_layer_aad8eb62e949c5e7fa732687be40277e = L.tileLayer(\n                &quot;https://tile.openstreetmap.org/{z}/{x}/{y}.png&quot;,\n                {\n  &quot;minZoom&quot;: 0,\n  &quot;maxZoom&quot;: 19,\n  &quot;maxNativeZoom&quot;: 19,\n  &quot;noWrap&quot;: false,\n  &quot;attribution&quot;: &quot;\\u0026copy; \\u003ca href=\\&quot;https://www.openstreetmap.org/copyright\\&quot;\\u003eOpenStreetMap\\u003c/a\\u003e contributors&quot;,\n  &quot;subdomains&quot;: &quot;abc&quot;,\n  &quot;detectRetina&quot;: false,\n  &quot;tms&quot;: false,\n  &quot;opacity&quot;: 1,\n}\n\n            );\n        \n    \n            tile_layer_aad8eb62e949c5e7fa732687be40277e.addTo(map_2d07d2618c5a1583c63a879593b3439e);\n        \n    \n            var circle_1f8f966cf990d36c28b92d89f31a3e32 = L.circle(\n                [28.56230197, -80.57735648],\n                {&quot;bubblingMouseEvents&quot;: true, &quot;color&quot;: &quot;#000000&quot;, &quot;dashArray&quot;: null, &quot;dashOffset&quot;: null, &quot;fill&quot;: true, &quot;fillColor&quot;: &quot;#000000&quot;, &quot;fillOpacity&quot;: 0.2, &quot;fillRule&quot;: &quot;evenodd&quot;, &quot;lineCap&quot;: &quot;round&quot;, &quot;lineJoin&quot;: &quot;round&quot;, &quot;opacity&quot;: 1.0, &quot;radius&quot;: 1000, &quot;stroke&quot;: true, &quot;weight&quot;: 3}\n            ).addTo(map_2d07d2618c5a1583c63a879593b3439e);\n        \n    \n        var popup_d3159b650bae0d9e1e8b75e7a4f63be3 = L.popup({\n  &quot;maxWidth&quot;: &quot;100%&quot;,\n});\n\n        \n            \n                var html_8e046fba03449e28b66755f38fc8ac8d = $(`&lt;div id=&quot;html_8e046fba03449e28b66755f38fc8ac8d&quot; style=&quot;width: 100.0%; height: 100.0%;&quot;&gt;CCAFS LC-40&lt;/div&gt;`)[0];\n                popup_d3159b650bae0d9e1e8b75e7a4f63be3.setContent(html_8e046fba03449e28b66755f38fc8ac8d);\n            \n        \n\n        circle_1f8f966cf990d36c28b92d89f31a3e32.bindPopup(popup_d3159b650bae0d9e1e8b75e7a4f63be3)\n        ;\n\n        \n    \n    \n            var marker_fb8cf36bbc7ff42e8a3a91494bf9cd91 = L.marker(\n                [28.56230197, -80.57735648],\n                {\n}\n            ).addTo(map_2d07d2618c5a1583c63a879593b3439e);\n        \n    \n            var div_icon_3e0bfd90dad3e72246acc1dc43dce2f9 = L.divIcon({\n  &quot;html&quot;: &quot;\\u003cdiv style=\\&quot;font-size: 12; color:#d35400;\\&quot;\\u003e\\u003cb\\u003eCCAFS LC-40\\u003c/b\\u003e\\u003c/div\\u003e&quot;,\n  &quot;iconSize&quot;: [20, 20],\n  &quot;iconAnchor&quot;: [0, 0],\n  &quot;className&quot;: &quot;empty&quot;,\n});\n            marker_fb8cf36bbc7ff42e8a3a91494bf9cd91.setIcon(div_icon_3e0bfd90dad3e72246acc1dc43dce2f9);\n        \n    \n                marker_fb8cf36bbc7ff42e8a3a91494bf9cd91.setIcon(div_icon_3e0bfd90dad3e72246acc1dc43dce2f9);\n            \n    \n            var circle_e7b0019cd4da4165e643c89a86583d7e = L.circle(\n                [28.56319718, -80.57682003],\n                {&quot;bubblingMouseEvents&quot;: true, &quot;color&quot;: &quot;#000000&quot;, &quot;dashArray&quot;: null, &quot;dashOffset&quot;: null, &quot;fill&quot;: true, &quot;fillColor&quot;: &quot;#000000&quot;, &quot;fillOpacity&quot;: 0.2, &quot;fillRule&quot;: &quot;evenodd&quot;, &quot;lineCap&quot;: &quot;round&quot;, &quot;lineJoin&quot;: &quot;round&quot;, &quot;opacity&quot;: 1.0, &quot;radius&quot;: 1000, &quot;stroke&quot;: true, &quot;weight&quot;: 3}\n            ).addTo(map_2d07d2618c5a1583c63a879593b3439e);\n        \n    \n        var popup_6c9362dda7a9605288c6d5aee81c1528 = L.popup({\n  &quot;maxWidth&quot;: &quot;100%&quot;,\n});\n\n        \n            \n                var html_25d19d37deb2530916cd6c210d0c7add = $(`&lt;div id=&quot;html_25d19d37deb2530916cd6c210d0c7add&quot; style=&quot;width: 100.0%; height: 100.0%;&quot;&gt;CCAFS SLC-40&lt;/div&gt;`)[0];\n                popup_6c9362dda7a9605288c6d5aee81c1528.setContent(html_25d19d37deb2530916cd6c210d0c7add);\n            \n        \n\n        circle_e7b0019cd4da4165e643c89a86583d7e.bindPopup(popup_6c9362dda7a9605288c6d5aee81c1528)\n        ;\n\n        \n    \n    \n            var marker_0634201c6dbe6874ff3b9d570935f37b = L.marker(\n                [28.56319718, -80.57682003],\n                {\n}\n            ).addTo(map_2d07d2618c5a1583c63a879593b3439e);\n        \n    \n            var div_icon_3836b283d8e3e61b8df050558e6817f0 = L.divIcon({\n  &quot;html&quot;: &quot;\\u003cdiv style=\\&quot;font-size: 12; color:#d35400;\\&quot;\\u003e\\u003cb\\u003eCCAFS SLC-40\\u003c/b\\u003e\\u003c/div\\u003e&quot;,\n  &quot;iconSize&quot;: [20, 20],\n  &quot;iconAnchor&quot;: [0, 0],\n  &quot;className&quot;: &quot;empty&quot;,\n});\n            marker_0634201c6dbe6874ff3b9d570935f37b.setIcon(div_icon_3836b283d8e3e61b8df050558e6817f0);\n        \n    \n                marker_0634201c6dbe6874ff3b9d570935f37b.setIcon(div_icon_3836b283d8e3e61b8df050558e6817f0);\n            \n    \n            var circle_aeda7c3b5a0abe22d132a8dd44845ae3 = L.circle(\n                [28.57325457, -80.64689529],\n                {&quot;bubblingMouseEvents&quot;: true, &quot;color&quot;: &quot;#000000&quot;, &quot;dashArray&quot;: null, &quot;dashOffset&quot;: null, &quot;fill&quot;: true, &quot;fillColor&quot;: &quot;#000000&quot;, &quot;fillOpacity&quot;: 0.2, &quot;fillRule&quot;: &quot;evenodd&quot;, &quot;lineCap&quot;: &quot;round&quot;, &quot;lineJoin&quot;: &quot;round&quot;, &quot;opacity&quot;: 1.0, &quot;radius&quot;: 1000, &quot;stroke&quot;: true, &quot;weight&quot;: 3}\n            ).addTo(map_2d07d2618c5a1583c63a879593b3439e);\n        \n    \n        var popup_6801a4a2477f4d740370c51fd168603b = L.popup({\n  &quot;maxWidth&quot;: &quot;100%&quot;,\n});\n\n        \n            \n                var html_4d31e923ede6e6d0bfe11093ae8ffba2 = $(`&lt;div id=&quot;html_4d31e923ede6e6d0bfe11093ae8ffba2&quot; style=&quot;width: 100.0%; height: 100.0%;&quot;&gt;KSC LC-39A&lt;/div&gt;`)[0];\n                popup_6801a4a2477f4d740370c51fd168603b.setContent(html_4d31e923ede6e6d0bfe11093ae8ffba2);\n            \n        \n\n        circle_aeda7c3b5a0abe22d132a8dd44845ae3.bindPopup(popup_6801a4a2477f4d740370c51fd168603b)\n        ;\n\n        \n    \n    \n            var marker_7f6d74c0e7893254cc51e9c88d32f8e1 = L.marker(\n                [28.57325457, -80.64689529],\n                {\n}\n            ).addTo(map_2d07d2618c5a1583c63a879593b3439e);\n        \n    \n            var div_icon_549c45339c1652b21e788ac8edf7ac79 = L.divIcon({\n  &quot;html&quot;: &quot;\\u003cdiv style=\\&quot;font-size: 12; color:#d35400;\\&quot;\\u003e\\u003cb\\u003eKSC LC-39A\\u003c/b\\u003e\\u003c/div\\u003e&quot;,\n  &quot;iconSize&quot;: [20, 20],\n  &quot;iconAnchor&quot;: [0, 0],\n  &quot;className&quot;: &quot;empty&quot;,\n});\n            marker_7f6d74c0e7893254cc51e9c88d32f8e1.setIcon(div_icon_549c45339c1652b21e788ac8edf7ac79);\n        \n    \n                marker_7f6d74c0e7893254cc51e9c88d32f8e1.setIcon(div_icon_549c45339c1652b21e788ac8edf7ac79);\n            \n    \n            var circle_551ce535863ef746854cd374ca64bc77 = L.circle(\n                [34.63283416, -120.6107455],\n                {&quot;bubblingMouseEvents&quot;: true, &quot;color&quot;: &quot;#000000&quot;, &quot;dashArray&quot;: null, &quot;dashOffset&quot;: null, &quot;fill&quot;: true, &quot;fillColor&quot;: &quot;#000000&quot;, &quot;fillOpacity&quot;: 0.2, &quot;fillRule&quot;: &quot;evenodd&quot;, &quot;lineCap&quot;: &quot;round&quot;, &quot;lineJoin&quot;: &quot;round&quot;, &quot;opacity&quot;: 1.0, &quot;radius&quot;: 1000, &quot;stroke&quot;: true, &quot;weight&quot;: 3}\n            ).addTo(map_2d07d2618c5a1583c63a879593b3439e);\n        \n    \n        var popup_70fc8e276b78fa742d8c975f1732d403 = L.popup({\n  &quot;maxWidth&quot;: &quot;100%&quot;,\n});\n\n        \n            \n                var html_57a4538140f9f3ec95acd11c0a67c34c = $(`&lt;div id=&quot;html_57a4538140f9f3ec95acd11c0a67c34c&quot; style=&quot;width: 100.0%; height: 100.0%;&quot;&gt;VAFB SLC-4E&lt;/div&gt;`)[0];\n                popup_70fc8e276b78fa742d8c975f1732d403.setContent(html_57a4538140f9f3ec95acd11c0a67c34c);\n            \n        \n\n        circle_551ce535863ef746854cd374ca64bc77.bindPopup(popup_70fc8e276b78fa742d8c975f1732d403)\n        ;\n\n        \n    \n    \n            var marker_43fc9ac41c9d513d32d88cecb64d90b4 = L.marker(\n                [34.63283416, -120.6107455],\n                {\n}\n            ).addTo(marker_cluster_3584bff26689377ffe9c55c2f089e031);\n        \n    \n            var div_icon_682fd70209fcede6229cc68a36aada7a = L.divIcon({\n  &quot;html&quot;: &quot;\\u003cdiv style=\\&quot;font-size: 12; color:#d35400;\\&quot;\\u003e\\u003cb\\u003eVAFB SLC-4E\\u003c/b\\u003e\\u003c/div\\u003e&quot;,\n  &quot;iconSize&quot;: [20, 20],\n  &quot;iconAnchor&quot;: [0, 0],\n  &quot;className&quot;: &quot;empty&quot;,\n});\n            marker_43fc9ac41c9d513d32d88cecb64d90b4.setIcon(div_icon_682fd70209fcede6229cc68a36aada7a);\n        \n    \n                marker_43fc9ac41c9d513d32d88cecb64d90b4.setIcon(div_icon_682fd70209fcede6229cc68a36aada7a);\n            \n    \n            tile_layer_aad8eb62e949c5e7fa732687be40277e.addTo(map_2d07d2618c5a1583c63a879593b3439e);\n        \n    \n                marker_fb8cf36bbc7ff42e8a3a91494bf9cd91.setIcon(div_icon_3e0bfd90dad3e72246acc1dc43dce2f9);\n            \n    \n                marker_0634201c6dbe6874ff3b9d570935f37b.setIcon(div_icon_3836b283d8e3e61b8df050558e6817f0);\n            \n    \n                marker_7f6d74c0e7893254cc51e9c88d32f8e1.setIcon(div_icon_549c45339c1652b21e788ac8edf7ac79);\n            \n    \n                marker_43fc9ac41c9d513d32d88cecb64d90b4.setIcon(div_icon_682fd70209fcede6229cc68a36aada7a);\n            \n    \n            var marker_cluster_3584bff26689377ffe9c55c2f089e031 = L.markerClusterGroup(\n                {\n}\n            );\n        \n    \n                marker_43fc9ac41c9d513d32d88cecb64d90b4.setIcon(div_icon_682fd70209fcede6229cc68a36aada7a);\n            \n    \n            marker_cluster_3584bff26689377ffe9c55c2f089e031.addTo(map_2d07d2618c5a1583c63a879593b3439e);\n        \n    \n            tile_layer_aad8eb62e949c5e7fa732687be40277e.addTo(map_2d07d2618c5a1583c63a879593b3439e);\n        \n    \n                marker_fb8cf36bbc7ff42e8a3a91494bf9cd91.setIcon(div_icon_3e0bfd90dad3e72246acc1dc43dce2f9);\n            \n    \n                marker_0634201c6dbe6874ff3b9d570935f37b.setIcon(div_icon_3836b283d8e3e61b8df050558e6817f0);\n            \n    \n                marker_7f6d74c0e7893254cc51e9c88d32f8e1.setIcon(div_icon_549c45339c1652b21e788ac8edf7ac79);\n            \n    \n                marker_43fc9ac41c9d513d32d88cecb64d90b4.setIcon(div_icon_682fd70209fcede6229cc68a36aada7a);\n            \n    \n                marker_43fc9ac41c9d513d32d88cecb64d90b4.setIcon(div_icon_682fd70209fcede6229cc68a36aada7a);\n            \n    \n            marker_cluster_3584bff26689377ffe9c55c2f089e031.addTo(map_2d07d2618c5a1583c63a879593b3439e);\n        \n    \n            var mouse_position_912bab2ed4c16fc9a40994f441685b2b = new L.Control.MousePosition(\n                {\n  &quot;position&quot;: &quot;topright&quot;,\n  &quot;separator&quot;: &quot; Long: &quot;,\n  &quot;emptyString&quot;: &quot;NaN&quot;,\n  &quot;lngFirst&quot;: false,\n  &quot;numDigits&quot;: 20,\n  &quot;prefix&quot;: &quot;Lat:&quot;,\n}\n            );\n            mouse_position_912bab2ed4c16fc9a40994f441685b2b.options[&quot;latFormatter&quot;] =\n                function(num) {return L.Util.formatNum(num, 5);};;\n            mouse_position_912bab2ed4c16fc9a40994f441685b2b.options[&quot;lngFormatter&quot;] =\n                function(num) {return L.Util.formatNum(num, 5);};;\n            map_2d07d2618c5a1583c63a879593b3439e.addControl(mouse_position_912bab2ed4c16fc9a40994f441685b2b);\n        \n&lt;/script&gt;\n&lt;/html&gt;\" style=\"position:absolute;width:100%;height:100%;left:0;top:0;border:none !important;\" allowfullscreen webkitallowfullscreen mozallowfullscreen></iframe></div></div>"
          },
          "metadata": {}
        }
      ],
      "execution_count": 18
    },
    {
      "cell_type": "markdown",
      "source": "Now zoom in to a launch site and explore its proximity to see if you can easily find any railway, highway, coastline, etc. Move your mouse to these points and mark down their coordinates (shown on the top-left) in order to the distance to the launch site.\n",
      "metadata": {}
    },
    {
      "cell_type": "markdown",
      "source": "Now zoom in to a launch site and explore its proximity to see if you can easily find any railway, highway, coastline, etc. Move your mouse to these points and mark down their coordinates (shown on the top-left) in order to the distance to the launch site.\n",
      "metadata": {}
    },
    {
      "cell_type": "code",
      "source": "from math import sin, cos, sqrt, atan2, radians\n\ndef calculate_distance(lat1, lon1, lat2, lon2):\n    # approximate radius of earth in km\n    R = 6373.0\n\n    lat1 = radians(lat1)\n    lon1 = radians(lon1)\n    lat2 = radians(lat2)\n    lon2 = radians(lon2)\n\n    dlon = lon2 - lon1\n    dlat = lat2 - lat1\n\n    a = sin(dlat / 2)**2 + cos(lat1) * cos(lat2) * sin(dlon / 2)**2\n    c = 2 * atan2(sqrt(a), sqrt(1 - a))\n\n    distance = R * c\n    return distance",
      "metadata": {
        "trusted": true
      },
      "outputs": [],
      "execution_count": 19
    },
    {
      "cell_type": "markdown",
      "source": "*TODO:* Mark down a point on the closest coastline using MousePosition and calculate the distance between the coastline point and the launch site.\n",
      "metadata": {}
    },
    {
      "cell_type": "code",
      "source": "# find coordinate of the closet coastline\n# e.g.,: Lat: 28.56367  Lon: -80.57163\n# distance_coastline = calculate_distance(launch_site_lat, launch_site_lon, coastline_lat, coastline_lon)",
      "metadata": {},
      "outputs": [],
      "execution_count": null
    },
    {
      "cell_type": "code",
      "source": "# Create and add a folium.Marker on your selected closest coastline point on the map\n# Display the distance between coastline point and launch site using the icon property \n# for example\n# distance_marker = folium.Marker(\n#    coordinate,\n#    icon=DivIcon(\n#        icon_size=(20,20),\n#        icon_anchor=(0,0),\n#        html='<div style=\"font-size: 12; color:#d35400;\"><b>%s</b></div>' % \"{:10.2f} KM\".format(distance),\n#        )\n#    )",
      "metadata": {
        "trusted": true
      },
      "outputs": [],
      "execution_count": 20
    },
    {
      "cell_type": "markdown",
      "source": "*TODO:* Draw a `PolyLine` between a launch site to the selected coastline point\n",
      "metadata": {}
    },
    {
      "cell_type": "code",
      "source": "# Create a `folium.PolyLine` object using the coastline coordinates and launch site coordinate\n# lines=folium.PolyLine(locations=coordinates, weight=1)\nsite_map.add_child(lines)",
      "metadata": {},
      "outputs": [],
      "execution_count": null
    },
    {
      "cell_type": "markdown",
      "source": "Your updated map with distance line should look like the following screenshot:\n",
      "metadata": {}
    },
    {
      "cell_type": "markdown",
      "source": "<center>\n    <img src=\"https://cf-courses-data.s3.us.cloud-object-storage.appdomain.cloud/IBM-DS0321EN-SkillsNetwork/labs/module_3/images/launch_site_marker_distance.png\">\n</center>\n",
      "metadata": {}
    },
    {
      "cell_type": "markdown",
      "source": "*TODO:* Similarly, you can draw a line betwee a launch site to its closest city, railway, highway, etc. You need to use `MousePosition` to find the their coordinates on the map first\n",
      "metadata": {}
    },
    {
      "cell_type": "markdown",
      "source": "A railway map symbol may look like this:\n",
      "metadata": {}
    },
    {
      "cell_type": "markdown",
      "source": "<center>\n    <img src=\"https://cf-courses-data.s3.us.cloud-object-storage.appdomain.cloud/IBM-DS0321EN-SkillsNetwork/labs/module_3/images/railway.png\">\n</center>\n",
      "metadata": {}
    },
    {
      "cell_type": "markdown",
      "source": "A highway map symbol may look like this:\n",
      "metadata": {}
    },
    {
      "cell_type": "markdown",
      "source": "<center>\n    <img src=\"https://cf-courses-data.s3.us.cloud-object-storage.appdomain.cloud/IBM-DS0321EN-SkillsNetwork/labs/module_3/images/highway.png\">\n</center>\n",
      "metadata": {}
    },
    {
      "cell_type": "markdown",
      "source": "A city map symbol may look like this:\n",
      "metadata": {}
    },
    {
      "cell_type": "markdown",
      "source": "<center>\n    <img src=\"https://cf-courses-data.s3.us.cloud-object-storage.appdomain.cloud/IBM-DS0321EN-SkillsNetwork/labs/module_3/images/city.png\">\n</center>\n",
      "metadata": {}
    },
    {
      "cell_type": "code",
      "source": "# Create a marker with distance to a closest city, railway, highway, etc.\n# Draw a line between the marker to the launch site\n",
      "metadata": {},
      "outputs": [],
      "execution_count": null
    },
    {
      "cell_type": "code",
      "source": "# Example coordinates (replace with values from MousePosition)\nlaunch_site_lat = 28.563197  # CCAFS SLC-40 coordinates\nlaunch_site_lon = -80.576820\ncoastline_lat = 28.56367    # Closest coastline point\ncoastline_lon = -80.57163\n\n# Calculate distance\ndistance_coastline = calculate_distance(launch_site_lat, launch_site_lon, coastline_lat, coastline_lon)\n\n# Create a marker for the coastline\ndistance_marker = folium.Marker(\n    [coastline_lat, coastline_lon],\n    icon=DivIcon(\n        icon_size=(20,20),\n        icon_anchor=(0,0),\n        html=f'<div style=\"font-size: 12; color:#d35400;\"><b>{distance_coastline:.2f} KM</b></div>'\n    )\n)\n\n# Draw a line between the launch site and coastline\nlines = folium.PolyLine(\n    locations=[[launch_site_lat, launch_site_lon], [coastline_lat, coastline_lon]],\n    weight=1\n)\n\n# Add to map\nsite_map.add_child(distance_marker)\nsite_map.add_child(lines)",
      "metadata": {
        "trusted": true
      },
      "outputs": [
        {
          "execution_count": 22,
          "output_type": "execute_result",
          "data": {
            "text/plain": "<folium.folium.Map at 0x5db7a18>",
            "text/html": "<div style=\"width:100%;\"><div style=\"position:relative;width:100%;height:0;padding-bottom:60%;\"><span style=\"color:#565656\">Make this Notebook Trusted to load map: File -> Trust Notebook</span><iframe srcdoc=\"&lt;!DOCTYPE html&gt;\n&lt;html&gt;\n&lt;head&gt;\n    \n    &lt;meta http-equiv=&quot;content-type&quot; content=&quot;text/html; charset=UTF-8&quot; /&gt;\n    \n        &lt;script&gt;\n            L_NO_TOUCH = false;\n            L_DISABLE_3D = false;\n        &lt;/script&gt;\n    \n    &lt;style&gt;html, body {width: 100%;height: 100%;margin: 0;padding: 0;}&lt;/style&gt;\n    &lt;style&gt;#map {position:absolute;top:0;bottom:0;right:0;left:0;}&lt;/style&gt;\n    &lt;script src=&quot;https://cdn.jsdelivr.net/npm/leaflet@1.9.3/dist/leaflet.js&quot;&gt;&lt;/script&gt;\n    &lt;script src=&quot;https://code.jquery.com/jquery-3.7.1.min.js&quot;&gt;&lt;/script&gt;\n    &lt;script src=&quot;https://cdn.jsdelivr.net/npm/bootstrap@5.2.2/dist/js/bootstrap.bundle.min.js&quot;&gt;&lt;/script&gt;\n    &lt;script src=&quot;https://cdnjs.cloudflare.com/ajax/libs/Leaflet.awesome-markers/2.0.2/leaflet.awesome-markers.js&quot;&gt;&lt;/script&gt;\n    &lt;link rel=&quot;stylesheet&quot; href=&quot;https://cdn.jsdelivr.net/npm/leaflet@1.9.3/dist/leaflet.css&quot;/&gt;\n    &lt;link rel=&quot;stylesheet&quot; href=&quot;https://cdn.jsdelivr.net/npm/bootstrap@5.2.2/dist/css/bootstrap.min.css&quot;/&gt;\n    &lt;link rel=&quot;stylesheet&quot; href=&quot;https://netdna.bootstrapcdn.com/bootstrap/3.0.0/css/bootstrap-glyphicons.css&quot;/&gt;\n    &lt;link rel=&quot;stylesheet&quot; href=&quot;https://cdn.jsdelivr.net/npm/@fortawesome/fontawesome-free@6.2.0/css/all.min.css&quot;/&gt;\n    &lt;link rel=&quot;stylesheet&quot; href=&quot;https://cdnjs.cloudflare.com/ajax/libs/Leaflet.awesome-markers/2.0.2/leaflet.awesome-markers.css&quot;/&gt;\n    &lt;link rel=&quot;stylesheet&quot; href=&quot;https://cdn.jsdelivr.net/gh/python-visualization/folium/folium/templates/leaflet.awesome.rotate.min.css&quot;/&gt;\n    \n            &lt;meta name=&quot;viewport&quot; content=&quot;width=device-width,\n                initial-scale=1.0, maximum-scale=1.0, user-scalable=no&quot; /&gt;\n            &lt;style&gt;\n                #map_2d07d2618c5a1583c63a879593b3439e {\n                    position: relative;\n                    width: 100.0%;\n                    height: 100.0%;\n                    left: 0.0%;\n                    top: 0.0%;\n                }\n                .leaflet-container { font-size: 1rem; }\n            &lt;/style&gt;\n        \n    &lt;script src=&quot;https://cdnjs.cloudflare.com/ajax/libs/leaflet.markercluster/1.1.0/leaflet.markercluster.js&quot;&gt;&lt;/script&gt;\n    &lt;link rel=&quot;stylesheet&quot; href=&quot;https://cdnjs.cloudflare.com/ajax/libs/leaflet.markercluster/1.1.0/MarkerCluster.css&quot;/&gt;\n    &lt;link rel=&quot;stylesheet&quot; href=&quot;https://cdnjs.cloudflare.com/ajax/libs/leaflet.markercluster/1.1.0/MarkerCluster.Default.css&quot;/&gt;\n    &lt;script src=&quot;https://cdn.jsdelivr.net/gh/ardhi/Leaflet.MousePosition/src/L.Control.MousePosition.min.js&quot;&gt;&lt;/script&gt;\n    &lt;link rel=&quot;stylesheet&quot; href=&quot;https://cdn.jsdelivr.net/gh/ardhi/Leaflet.MousePosition/src/L.Control.MousePosition.min.css&quot;/&gt;\n&lt;/head&gt;\n&lt;body&gt;\n    \n    \n            &lt;div class=&quot;folium-map&quot; id=&quot;map_2d07d2618c5a1583c63a879593b3439e&quot; &gt;&lt;/div&gt;\n        \n&lt;/body&gt;\n&lt;script&gt;\n    \n    \n            var map_2d07d2618c5a1583c63a879593b3439e = L.map(\n                &quot;map_2d07d2618c5a1583c63a879593b3439e&quot;,\n                {\n                    center: [29.559684888503615, -95.0830971930759],\n                    crs: L.CRS.EPSG3857,\n                    ...{\n  &quot;zoom&quot;: 5,\n  &quot;zoomControl&quot;: true,\n  &quot;preferCanvas&quot;: false,\n}\n\n                }\n            );\n\n            \n\n        \n    \n            var tile_layer_aad8eb62e949c5e7fa732687be40277e = L.tileLayer(\n                &quot;https://tile.openstreetmap.org/{z}/{x}/{y}.png&quot;,\n                {\n  &quot;minZoom&quot;: 0,\n  &quot;maxZoom&quot;: 19,\n  &quot;maxNativeZoom&quot;: 19,\n  &quot;noWrap&quot;: false,\n  &quot;attribution&quot;: &quot;\\u0026copy; \\u003ca href=\\&quot;https://www.openstreetmap.org/copyright\\&quot;\\u003eOpenStreetMap\\u003c/a\\u003e contributors&quot;,\n  &quot;subdomains&quot;: &quot;abc&quot;,\n  &quot;detectRetina&quot;: false,\n  &quot;tms&quot;: false,\n  &quot;opacity&quot;: 1,\n}\n\n            );\n        \n    \n            tile_layer_aad8eb62e949c5e7fa732687be40277e.addTo(map_2d07d2618c5a1583c63a879593b3439e);\n        \n    \n            var circle_1f8f966cf990d36c28b92d89f31a3e32 = L.circle(\n                [28.56230197, -80.57735648],\n                {&quot;bubblingMouseEvents&quot;: true, &quot;color&quot;: &quot;#000000&quot;, &quot;dashArray&quot;: null, &quot;dashOffset&quot;: null, &quot;fill&quot;: true, &quot;fillColor&quot;: &quot;#000000&quot;, &quot;fillOpacity&quot;: 0.2, &quot;fillRule&quot;: &quot;evenodd&quot;, &quot;lineCap&quot;: &quot;round&quot;, &quot;lineJoin&quot;: &quot;round&quot;, &quot;opacity&quot;: 1.0, &quot;radius&quot;: 1000, &quot;stroke&quot;: true, &quot;weight&quot;: 3}\n            ).addTo(map_2d07d2618c5a1583c63a879593b3439e);\n        \n    \n        var popup_d3159b650bae0d9e1e8b75e7a4f63be3 = L.popup({\n  &quot;maxWidth&quot;: &quot;100%&quot;,\n});\n\n        \n            \n                var html_8e046fba03449e28b66755f38fc8ac8d = $(`&lt;div id=&quot;html_8e046fba03449e28b66755f38fc8ac8d&quot; style=&quot;width: 100.0%; height: 100.0%;&quot;&gt;CCAFS LC-40&lt;/div&gt;`)[0];\n                popup_d3159b650bae0d9e1e8b75e7a4f63be3.setContent(html_8e046fba03449e28b66755f38fc8ac8d);\n            \n        \n\n        circle_1f8f966cf990d36c28b92d89f31a3e32.bindPopup(popup_d3159b650bae0d9e1e8b75e7a4f63be3)\n        ;\n\n        \n    \n    \n            var marker_fb8cf36bbc7ff42e8a3a91494bf9cd91 = L.marker(\n                [28.56230197, -80.57735648],\n                {\n}\n            ).addTo(map_2d07d2618c5a1583c63a879593b3439e);\n        \n    \n            var div_icon_3e0bfd90dad3e72246acc1dc43dce2f9 = L.divIcon({\n  &quot;html&quot;: &quot;\\u003cdiv style=\\&quot;font-size: 12; color:#d35400;\\&quot;\\u003e\\u003cb\\u003eCCAFS LC-40\\u003c/b\\u003e\\u003c/div\\u003e&quot;,\n  &quot;iconSize&quot;: [20, 20],\n  &quot;iconAnchor&quot;: [0, 0],\n  &quot;className&quot;: &quot;empty&quot;,\n});\n            marker_fb8cf36bbc7ff42e8a3a91494bf9cd91.setIcon(div_icon_3e0bfd90dad3e72246acc1dc43dce2f9);\n        \n    \n                marker_fb8cf36bbc7ff42e8a3a91494bf9cd91.setIcon(div_icon_3e0bfd90dad3e72246acc1dc43dce2f9);\n            \n    \n            var circle_e7b0019cd4da4165e643c89a86583d7e = L.circle(\n                [28.56319718, -80.57682003],\n                {&quot;bubblingMouseEvents&quot;: true, &quot;color&quot;: &quot;#000000&quot;, &quot;dashArray&quot;: null, &quot;dashOffset&quot;: null, &quot;fill&quot;: true, &quot;fillColor&quot;: &quot;#000000&quot;, &quot;fillOpacity&quot;: 0.2, &quot;fillRule&quot;: &quot;evenodd&quot;, &quot;lineCap&quot;: &quot;round&quot;, &quot;lineJoin&quot;: &quot;round&quot;, &quot;opacity&quot;: 1.0, &quot;radius&quot;: 1000, &quot;stroke&quot;: true, &quot;weight&quot;: 3}\n            ).addTo(map_2d07d2618c5a1583c63a879593b3439e);\n        \n    \n        var popup_6c9362dda7a9605288c6d5aee81c1528 = L.popup({\n  &quot;maxWidth&quot;: &quot;100%&quot;,\n});\n\n        \n            \n                var html_25d19d37deb2530916cd6c210d0c7add = $(`&lt;div id=&quot;html_25d19d37deb2530916cd6c210d0c7add&quot; style=&quot;width: 100.0%; height: 100.0%;&quot;&gt;CCAFS SLC-40&lt;/div&gt;`)[0];\n                popup_6c9362dda7a9605288c6d5aee81c1528.setContent(html_25d19d37deb2530916cd6c210d0c7add);\n            \n        \n\n        circle_e7b0019cd4da4165e643c89a86583d7e.bindPopup(popup_6c9362dda7a9605288c6d5aee81c1528)\n        ;\n\n        \n    \n    \n            var marker_0634201c6dbe6874ff3b9d570935f37b = L.marker(\n                [28.56319718, -80.57682003],\n                {\n}\n            ).addTo(map_2d07d2618c5a1583c63a879593b3439e);\n        \n    \n            var div_icon_3836b283d8e3e61b8df050558e6817f0 = L.divIcon({\n  &quot;html&quot;: &quot;\\u003cdiv style=\\&quot;font-size: 12; color:#d35400;\\&quot;\\u003e\\u003cb\\u003eCCAFS SLC-40\\u003c/b\\u003e\\u003c/div\\u003e&quot;,\n  &quot;iconSize&quot;: [20, 20],\n  &quot;iconAnchor&quot;: [0, 0],\n  &quot;className&quot;: &quot;empty&quot;,\n});\n            marker_0634201c6dbe6874ff3b9d570935f37b.setIcon(div_icon_3836b283d8e3e61b8df050558e6817f0);\n        \n    \n                marker_0634201c6dbe6874ff3b9d570935f37b.setIcon(div_icon_3836b283d8e3e61b8df050558e6817f0);\n            \n    \n            var circle_aeda7c3b5a0abe22d132a8dd44845ae3 = L.circle(\n                [28.57325457, -80.64689529],\n                {&quot;bubblingMouseEvents&quot;: true, &quot;color&quot;: &quot;#000000&quot;, &quot;dashArray&quot;: null, &quot;dashOffset&quot;: null, &quot;fill&quot;: true, &quot;fillColor&quot;: &quot;#000000&quot;, &quot;fillOpacity&quot;: 0.2, &quot;fillRule&quot;: &quot;evenodd&quot;, &quot;lineCap&quot;: &quot;round&quot;, &quot;lineJoin&quot;: &quot;round&quot;, &quot;opacity&quot;: 1.0, &quot;radius&quot;: 1000, &quot;stroke&quot;: true, &quot;weight&quot;: 3}\n            ).addTo(map_2d07d2618c5a1583c63a879593b3439e);\n        \n    \n        var popup_6801a4a2477f4d740370c51fd168603b = L.popup({\n  &quot;maxWidth&quot;: &quot;100%&quot;,\n});\n\n        \n            \n                var html_4d31e923ede6e6d0bfe11093ae8ffba2 = $(`&lt;div id=&quot;html_4d31e923ede6e6d0bfe11093ae8ffba2&quot; style=&quot;width: 100.0%; height: 100.0%;&quot;&gt;KSC LC-39A&lt;/div&gt;`)[0];\n                popup_6801a4a2477f4d740370c51fd168603b.setContent(html_4d31e923ede6e6d0bfe11093ae8ffba2);\n            \n        \n\n        circle_aeda7c3b5a0abe22d132a8dd44845ae3.bindPopup(popup_6801a4a2477f4d740370c51fd168603b)\n        ;\n\n        \n    \n    \n            var marker_7f6d74c0e7893254cc51e9c88d32f8e1 = L.marker(\n                [28.57325457, -80.64689529],\n                {\n}\n            ).addTo(map_2d07d2618c5a1583c63a879593b3439e);\n        \n    \n            var div_icon_549c45339c1652b21e788ac8edf7ac79 = L.divIcon({\n  &quot;html&quot;: &quot;\\u003cdiv style=\\&quot;font-size: 12; color:#d35400;\\&quot;\\u003e\\u003cb\\u003eKSC LC-39A\\u003c/b\\u003e\\u003c/div\\u003e&quot;,\n  &quot;iconSize&quot;: [20, 20],\n  &quot;iconAnchor&quot;: [0, 0],\n  &quot;className&quot;: &quot;empty&quot;,\n});\n            marker_7f6d74c0e7893254cc51e9c88d32f8e1.setIcon(div_icon_549c45339c1652b21e788ac8edf7ac79);\n        \n    \n                marker_7f6d74c0e7893254cc51e9c88d32f8e1.setIcon(div_icon_549c45339c1652b21e788ac8edf7ac79);\n            \n    \n            var circle_551ce535863ef746854cd374ca64bc77 = L.circle(\n                [34.63283416, -120.6107455],\n                {&quot;bubblingMouseEvents&quot;: true, &quot;color&quot;: &quot;#000000&quot;, &quot;dashArray&quot;: null, &quot;dashOffset&quot;: null, &quot;fill&quot;: true, &quot;fillColor&quot;: &quot;#000000&quot;, &quot;fillOpacity&quot;: 0.2, &quot;fillRule&quot;: &quot;evenodd&quot;, &quot;lineCap&quot;: &quot;round&quot;, &quot;lineJoin&quot;: &quot;round&quot;, &quot;opacity&quot;: 1.0, &quot;radius&quot;: 1000, &quot;stroke&quot;: true, &quot;weight&quot;: 3}\n            ).addTo(map_2d07d2618c5a1583c63a879593b3439e);\n        \n    \n        var popup_70fc8e276b78fa742d8c975f1732d403 = L.popup({\n  &quot;maxWidth&quot;: &quot;100%&quot;,\n});\n\n        \n            \n                var html_57a4538140f9f3ec95acd11c0a67c34c = $(`&lt;div id=&quot;html_57a4538140f9f3ec95acd11c0a67c34c&quot; style=&quot;width: 100.0%; height: 100.0%;&quot;&gt;VAFB SLC-4E&lt;/div&gt;`)[0];\n                popup_70fc8e276b78fa742d8c975f1732d403.setContent(html_57a4538140f9f3ec95acd11c0a67c34c);\n            \n        \n\n        circle_551ce535863ef746854cd374ca64bc77.bindPopup(popup_70fc8e276b78fa742d8c975f1732d403)\n        ;\n\n        \n    \n    \n            var marker_43fc9ac41c9d513d32d88cecb64d90b4 = L.marker(\n                [34.63283416, -120.6107455],\n                {\n}\n            ).addTo(marker_cluster_3584bff26689377ffe9c55c2f089e031);\n        \n    \n            var div_icon_682fd70209fcede6229cc68a36aada7a = L.divIcon({\n  &quot;html&quot;: &quot;\\u003cdiv style=\\&quot;font-size: 12; color:#d35400;\\&quot;\\u003e\\u003cb\\u003eVAFB SLC-4E\\u003c/b\\u003e\\u003c/div\\u003e&quot;,\n  &quot;iconSize&quot;: [20, 20],\n  &quot;iconAnchor&quot;: [0, 0],\n  &quot;className&quot;: &quot;empty&quot;,\n});\n            marker_43fc9ac41c9d513d32d88cecb64d90b4.setIcon(div_icon_682fd70209fcede6229cc68a36aada7a);\n        \n    \n                marker_43fc9ac41c9d513d32d88cecb64d90b4.setIcon(div_icon_682fd70209fcede6229cc68a36aada7a);\n            \n    \n            tile_layer_aad8eb62e949c5e7fa732687be40277e.addTo(map_2d07d2618c5a1583c63a879593b3439e);\n        \n    \n                marker_fb8cf36bbc7ff42e8a3a91494bf9cd91.setIcon(div_icon_3e0bfd90dad3e72246acc1dc43dce2f9);\n            \n    \n                marker_0634201c6dbe6874ff3b9d570935f37b.setIcon(div_icon_3836b283d8e3e61b8df050558e6817f0);\n            \n    \n                marker_7f6d74c0e7893254cc51e9c88d32f8e1.setIcon(div_icon_549c45339c1652b21e788ac8edf7ac79);\n            \n    \n                marker_43fc9ac41c9d513d32d88cecb64d90b4.setIcon(div_icon_682fd70209fcede6229cc68a36aada7a);\n            \n    \n            var marker_cluster_3584bff26689377ffe9c55c2f089e031 = L.markerClusterGroup(\n                {\n}\n            );\n        \n    \n                marker_43fc9ac41c9d513d32d88cecb64d90b4.setIcon(div_icon_682fd70209fcede6229cc68a36aada7a);\n            \n    \n            marker_cluster_3584bff26689377ffe9c55c2f089e031.addTo(map_2d07d2618c5a1583c63a879593b3439e);\n        \n    \n            tile_layer_aad8eb62e949c5e7fa732687be40277e.addTo(map_2d07d2618c5a1583c63a879593b3439e);\n        \n    \n                marker_fb8cf36bbc7ff42e8a3a91494bf9cd91.setIcon(div_icon_3e0bfd90dad3e72246acc1dc43dce2f9);\n            \n    \n                marker_0634201c6dbe6874ff3b9d570935f37b.setIcon(div_icon_3836b283d8e3e61b8df050558e6817f0);\n            \n    \n                marker_7f6d74c0e7893254cc51e9c88d32f8e1.setIcon(div_icon_549c45339c1652b21e788ac8edf7ac79);\n            \n    \n                marker_43fc9ac41c9d513d32d88cecb64d90b4.setIcon(div_icon_682fd70209fcede6229cc68a36aada7a);\n            \n    \n                marker_43fc9ac41c9d513d32d88cecb64d90b4.setIcon(div_icon_682fd70209fcede6229cc68a36aada7a);\n            \n    \n            marker_cluster_3584bff26689377ffe9c55c2f089e031.addTo(map_2d07d2618c5a1583c63a879593b3439e);\n        \n    \n            var mouse_position_912bab2ed4c16fc9a40994f441685b2b = new L.Control.MousePosition(\n                {\n  &quot;position&quot;: &quot;topright&quot;,\n  &quot;separator&quot;: &quot; Long: &quot;,\n  &quot;emptyString&quot;: &quot;NaN&quot;,\n  &quot;lngFirst&quot;: false,\n  &quot;numDigits&quot;: 20,\n  &quot;prefix&quot;: &quot;Lat:&quot;,\n}\n            );\n            mouse_position_912bab2ed4c16fc9a40994f441685b2b.options[&quot;latFormatter&quot;] =\n                function(num) {return L.Util.formatNum(num, 5);};;\n            mouse_position_912bab2ed4c16fc9a40994f441685b2b.options[&quot;lngFormatter&quot;] =\n                function(num) {return L.Util.formatNum(num, 5);};;\n            map_2d07d2618c5a1583c63a879593b3439e.addControl(mouse_position_912bab2ed4c16fc9a40994f441685b2b);\n        \n    \n            tile_layer_aad8eb62e949c5e7fa732687be40277e.addTo(map_2d07d2618c5a1583c63a879593b3439e);\n        \n    \n                marker_fb8cf36bbc7ff42e8a3a91494bf9cd91.setIcon(div_icon_3e0bfd90dad3e72246acc1dc43dce2f9);\n            \n    \n                marker_0634201c6dbe6874ff3b9d570935f37b.setIcon(div_icon_3836b283d8e3e61b8df050558e6817f0);\n            \n    \n                marker_7f6d74c0e7893254cc51e9c88d32f8e1.setIcon(div_icon_549c45339c1652b21e788ac8edf7ac79);\n            \n    \n                marker_43fc9ac41c9d513d32d88cecb64d90b4.setIcon(div_icon_682fd70209fcede6229cc68a36aada7a);\n            \n    \n                marker_43fc9ac41c9d513d32d88cecb64d90b4.setIcon(div_icon_682fd70209fcede6229cc68a36aada7a);\n            \n    \n            marker_cluster_3584bff26689377ffe9c55c2f089e031.addTo(map_2d07d2618c5a1583c63a879593b3439e);\n        \n    \n            var marker_ae178ab50f4203349f4872238c1e7bc5 = L.marker(\n                [28.56367, -80.57163],\n                {\n}\n            ).addTo(map_2d07d2618c5a1583c63a879593b3439e);\n        \n    \n            var div_icon_efc1bb888160967980d490fd6a0aa9d2 = L.divIcon({\n  &quot;html&quot;: &quot;\\u003cdiv style=\\&quot;font-size: 12; color:#d35400;\\&quot;\\u003e\\u003cb\\u003e0.51 KM\\u003c/b\\u003e\\u003c/div\\u003e&quot;,\n  &quot;iconSize&quot;: [20, 20],\n  &quot;iconAnchor&quot;: [0, 0],\n  &quot;className&quot;: &quot;empty&quot;,\n});\n            marker_ae178ab50f4203349f4872238c1e7bc5.setIcon(div_icon_efc1bb888160967980d490fd6a0aa9d2);\n        \n    \n                marker_ae178ab50f4203349f4872238c1e7bc5.setIcon(div_icon_efc1bb888160967980d490fd6a0aa9d2);\n            \n    \n            var poly_line_d8ac4a8c4d1f7542dd7b3f25b4189db3 = L.polyline(\n                [[28.563197, -80.57682], [28.56367, -80.57163]],\n                {&quot;bubblingMouseEvents&quot;: true, &quot;color&quot;: &quot;#3388ff&quot;, &quot;dashArray&quot;: null, &quot;dashOffset&quot;: null, &quot;fill&quot;: false, &quot;fillColor&quot;: &quot;#3388ff&quot;, &quot;fillOpacity&quot;: 0.2, &quot;fillRule&quot;: &quot;evenodd&quot;, &quot;lineCap&quot;: &quot;round&quot;, &quot;lineJoin&quot;: &quot;round&quot;, &quot;noClip&quot;: false, &quot;opacity&quot;: 1.0, &quot;smoothFactor&quot;: 1.0, &quot;stroke&quot;: true, &quot;weight&quot;: 1}\n            ).addTo(map_2d07d2618c5a1583c63a879593b3439e);\n        \n&lt;/script&gt;\n&lt;/html&gt;\" style=\"position:absolute;width:100%;height:100%;left:0;top:0;border:none !important;\" allowfullscreen webkitallowfullscreen mozallowfullscreen></iframe></div></div>"
          },
          "metadata": {}
        }
      ],
      "execution_count": 22
    },
    {
      "cell_type": "code",
      "source": "# Example for a city (Cape Canaveral)\ncity_coordinate = [28.4017, -80.6047]\ndistance_city = calculate_distance(launch_site_lat, launch_site_lon, city_coordinate[0], city_coordinate[1])\n\n# Add marker and line\nfolium.Marker(\n    city_coordinate,\n    icon=DivIcon(html=f'<div style=\"font-size: 12; color:#d35400;\"><b>{distance_city:.2f} KM</b></div>')\n).add_to(site_map)\n\nfolium.PolyLine(\n    locations=[[launch_site_lat, launch_site_lon], city_coordinate],\n    weight=1\n).add_to(site_map)",
      "metadata": {
        "trusted": true
      },
      "outputs": [
        {
          "execution_count": 23,
          "output_type": "execute_result",
          "data": {
            "text/plain": "<folium.vector_layers.PolyLine at 0x5ebd538>"
          },
          "metadata": {}
        }
      ],
      "execution_count": 23
    },
    {
      "cell_type": "markdown",
      "source": "After you plot distance lines to the proximities, you can answer the following questions easily:\n\n*   Are launch sites in close proximity to railways?\n*   Are launch sites in close proximity to highways?\n*   Are launch sites in close proximity to coastline?\n*   Do launch sites keep certain distance away from cities?\n\nAlso please try to explain your findings.\n",
      "metadata": {}
    },
    {
      "cell_type": "markdown",
      "source": "# Next Steps:\n\nNow you have discovered many interesting insights related to the launch sites' location using folium, in a very interactive way. Next, you will need to build a dashboard using Ploty Dash on detailed launch records.\n",
      "metadata": {}
    },
    {
      "cell_type": "markdown",
      "source": "## Authors\n",
      "metadata": {}
    },
    {
      "cell_type": "markdown",
      "source": "[Pratiksha Verma](https://www.linkedin.com/in/pratiksha-verma-6487561b1/)\n",
      "metadata": {}
    },
    {
      "cell_type": "markdown",
      "source": "<!--## Change Log--!>\n",
      "metadata": {}
    },
    {
      "cell_type": "markdown",
      "source": "<!--| Date (YYYY-MM-DD) | Version | Changed By      | Change Description      |\n| ----------------- | ------- | -------------   | ----------------------- |\n| 2022-11-09        | 1.0     | Pratiksha Verma | Converted initial version to Jupyterlite|--!>\n",
      "metadata": {}
    },
    {
      "cell_type": "markdown",
      "source": "### <h3 align=\"center\"> IBM Corporation 2022. All rights reserved. <h3/>\n",
      "metadata": {}
    }
  ]
}